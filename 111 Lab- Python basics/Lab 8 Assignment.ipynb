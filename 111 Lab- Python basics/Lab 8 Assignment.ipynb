{
 "cells": [
  {
   "cell_type": "code",
   "execution_count": 26,
   "metadata": {},
   "outputs": [
    {
     "name": "stdout",
     "output_type": "stream",
     "text": [
      "Name: Default Department: BBA\n",
      "Name: Humpty Dumpty Department: BBA\n",
      "Name: Little Bo Peep Department: BBA\n"
     ]
    }
   ],
   "source": [
    "class Student:\n",
    "    def __init__(self, name='Just a student', dept=\"nothing\"):\n",
    "             self.__name = name\n",
    "             self.__department = dept\n",
    "    def set_department(self, dept):\n",
    "                 self.__department = dept\n",
    "    def get_name(self):\n",
    "                 return self.__name\n",
    "    def set_name(self,name):\n",
    "                 self.__name = name\n",
    "    def __str__(self):\n",
    "                 return 'Name: '+self.__name+' Department: '+self.__department\n",
    "        \n",
    "class BBA_Student(Student):\n",
    "    def __init__(self, name=\"Default\", dept=\"BBA\"):\n",
    "        super().__init__(name, dept)\n",
    "                             \n",
    "print(BBA_Student())\n",
    "print(BBA_Student('Humpty Dumpty'))\n",
    "print(BBA_Student('Little Bo Peep'))\n",
    "                 \n",
    "             "
   ]
  },
  {
   "cell_type": "code",
   "execution_count": 17,
   "metadata": {},
   "outputs": [
    {
     "name": "stdout",
     "output_type": "stream",
     "text": [
      "Part 1\n",
      "------\n",
      "(0 , 0)\n",
      "(0 , 1)\n",
      "(-1 , 1)\n",
      "(-1 , 0)\n",
      "(0 , 0)\n",
      "------\n",
      "Part 2\n",
      "------\n",
      "(0 , 0)\n",
      "(-1 , -1)\n",
      "False\n",
      "True\n",
      "------\n"
     ]
    }
   ],
   "source": [
    "class Vehicle:\n",
    "    def __init__(self):\n",
    "        self.x = 0\n",
    "        self.y = 0\n",
    "    def moveUp(self):\n",
    "        self.y+=1\n",
    "    def moveDown(self):\n",
    "        self.y-=1\n",
    "    def moveRight(self):\n",
    "        self.x+=1\n",
    "    def moveLeft(self):\n",
    "        self.x-=1\n",
    "    def __str__(self):\n",
    "        return '('+str(self.x)+' , '+str(self.y)+')'\n",
    "\n",
    "class Vehicle2010(Vehicle):\n",
    "    \n",
    "    def moveUpperRight(self):\n",
    "        super().moveUp()\n",
    "        super().moveRight()\n",
    "    def moveUpperleft(self):\n",
    "        self.moveUp()\n",
    "        self.moveLeft()\n",
    "    def moveLowerRight(self):\n",
    "        self.moveDown()\n",
    "        self.moveRight()\n",
    "    def moveLowerLeft(self):\n",
    "        self.moveDown()\n",
    "        self.moveLeft()\n",
    "    def equals(self,other):\n",
    "        if (self.x==other.x and self.y==other.y):\n",
    "            return \"True\"\n",
    "        else:\n",
    "            return \"False\"\n",
    "        \n",
    "    \n",
    "print('Part 1')\n",
    "print('------')\n",
    "car = Vehicle()\n",
    "print(car)\n",
    "car.moveUp()\n",
    "print(car)\n",
    "car.moveLeft()\n",
    "print(car)\n",
    "car.moveDown()\n",
    "print(car)\n",
    "car.moveRight()\n",
    "print(car)\n",
    "print('------')\n",
    "print('Part 2')\n",
    "print('------')\n",
    "car1 = Vehicle2010()\n",
    "print(car1)\n",
    "car1.moveLowerLeft()\n",
    "print(car1)\n",
    "car2 = Vehicle2010()\n",
    "car2.moveLeft()\n",
    "print(car1.equals(car2))\n",
    "car2.moveDown()\n",
    "print(car1.equals(car2))\n",
    "print('------')\n",
    "\n",
    "    "
   ]
  },
  {
   "cell_type": "code",
   "execution_count": 18,
   "metadata": {},
   "outputs": [
    {
     "name": "stdout",
     "output_type": "stream",
     "text": [
      "RealPart: 1\n",
      "Imaginary Part: 1\n",
      "---------\n",
      "RealPart: 5\n",
      "Imaginary Part: 7\n",
      "---------\n"
     ]
    }
   ],
   "source": [
    "class RealNumber:\n",
    "    def __init__(self, r=0):\n",
    "        self.__realValue = r\n",
    "    def getRealValue(self):\n",
    "        return self.__realValue\n",
    "    def setRealValue(self, r):\n",
    "        self.__realValue = r\n",
    "    def ping(self):\n",
    "        print('I am in RealNumber class')\n",
    "    def __str__(self):\n",
    "        return 'RealPart: '+str(self.getRealValue())\n",
    "\n",
    "class ComplexNumber(RealNumber):\n",
    "    def __init__(self, r=1, i=1):\n",
    "        super().__init__(r)\n",
    "        self.i=i\n",
    "    def getImaginaryValue(self):\n",
    "        return self.i\n",
    "    def __str__(self):\n",
    "        return super().__str__()+'\\nImaginary Part: '+str(self.i)\n",
    "    \n",
    "cn1 = ComplexNumber()\n",
    "print(cn1)\n",
    "print('---------')\n",
    "cn2 = ComplexNumber(5,7)\n",
    "print(cn2)\n",
    "print('---------')\n",
    "    \n",
    "\n"
   ]
  },
  {
   "cell_type": "code",
   "execution_count": 4,
   "metadata": {},
   "outputs": [
    {
     "name": "stdout",
     "output_type": "stream",
     "text": [
      "0\n",
      "100.0\n",
      "200.0\n",
      "3\n"
     ]
    }
   ],
   "source": [
    "class Account:  \n",
    "    def __init__(self,balance):\n",
    "        self._balance = balance\n",
    "    def getBalance(self):\n",
    "        return self._balance\n",
    "    \n",
    "class CheckingAccount(Account):\n",
    "    numberOfAccount=str(0)\n",
    "    def __init__(self, num=0):\n",
    "        super().__init__(num)\n",
    "        CheckingAccount.numberOfAccount=str(int(CheckingAccount.numberOfAccount)+1)\n",
    "    def __str__(self):\n",
    "        return str(self.getBalance())\n",
    "\n",
    "print(CheckingAccount())\n",
    "print(CheckingAccount(100.00))\n",
    "print(CheckingAccount(200.00))\n",
    "print(CheckingAccount.numberOfAccount)\n",
    "\n",
    "        "
   ]
  },
  {
   "cell_type": "code",
   "execution_count": 3,
   "metadata": {},
   "outputs": [
    {
     "name": "stdout",
     "output_type": "stream",
     "text": [
      "Animal does not make sound\n",
      "meow\n",
      "bark\n"
     ]
    }
   ],
   "source": [
    "class Animal:\n",
    "    def __init__(self,sound):\n",
    "        self.__sound = sound\n",
    "    def makeSound(self):\n",
    "        return self.__sound\n",
    "class Dog(Animal):\n",
    "    def __init__(self,call):\n",
    "        super().__init__(call)\n",
    "class Cat(Animal):\n",
    "    def __init__(self,call):\n",
    "        super().__init__(call)\n",
    "class Printer:\n",
    "    def printSound(self, a):\n",
    "        print(a.makeSound())\n",
    "        \n",
    "d1 = Dog('bark')\n",
    "c1 = Cat('meow')\n",
    "a1 = Animal('Animal does not make sound')\n",
    "pr = Printer()\n",
    "pr.printSound(a1)\n",
    "pr.printSound(c1)\n",
    "pr.printSound(d1)"
   ]
  },
  {
   "cell_type": "code",
   "execution_count": 8,
   "metadata": {},
   "outputs": [
    {
     "name": "stdout",
     "output_type": "stream",
     "text": [
      "----Printing Detail----\n",
      "Do not eat the Mango .\n",
      "Mangos are bad for you\n",
      "----Printing Detail----\n",
      "Eat the Jackfruit .\n",
      "Jackfruits are good for you\n"
     ]
    }
   ],
   "source": [
    "class Fruit:\n",
    "    def __init__(self, formalin=False, name=''):\n",
    "        self.__formalin = formalin\n",
    "        self.name = name\n",
    "    def getName(self):\n",
    "        return self.name\n",
    "    def hasFormalin(self):\n",
    "        return self.__formalin\n",
    "    \n",
    "class Mango(Fruit):\n",
    "    def __init__(self,k=True, f=\"Mango\"):\n",
    "        super().__init__(k, f)\n",
    "    def __str__(self):\n",
    "        return(\"Mangos are bad for you\")\n",
    "        \n",
    "class Jackfruit(Fruit):\n",
    "    def __init__(self,k=False,f=\"Jackfruit\"):\n",
    "        super().__init__(k, f)\n",
    "    def __str__(self):\n",
    "        return(\"Jackfruits are good for you\")\n",
    "    \n",
    "class testFruit:\n",
    "    def test(self, f):\n",
    "        print('----Printing Detail----')\n",
    "        if f.hasFormalin():\n",
    "            print('Do not eat the',f.getName(),'.')\n",
    "            print(f)\n",
    "        else:\n",
    "            print('Eat the',f.getName(),'.')\n",
    "            print(f)\n",
    "            \n",
    "m = Mango()\n",
    "j = Jackfruit()\n",
    "t1 = testFruit()\n",
    "t1.test(m)\n",
    "t1.test(j)\n",
    "    "
   ]
  },
  {
   "cell_type": "code",
   "execution_count": null,
   "metadata": {},
   "outputs": [],
   "source": []
  }
 ],
 "metadata": {
  "kernelspec": {
   "display_name": "Python 3",
   "language": "python",
   "name": "python3"
  },
  "language_info": {
   "codemirror_mode": {
    "name": "ipython",
    "version": 3
   },
   "file_extension": ".py",
   "mimetype": "text/x-python",
   "name": "python",
   "nbconvert_exporter": "python",
   "pygments_lexer": "ipython3",
   "version": "3.7.6"
  }
 },
 "nbformat": 4,
 "nbformat_minor": 4
}

{
 "cells": [
  {
   "cell_type": "code",
   "execution_count": null,
   "metadata": {},
   "outputs": [],
   "source": [
    "#Easy\n",
    "#1\n",
    "def remove_vowels(word, vowels=\"AaEeIiOoUu\"):\n",
    "    count=0\n",
    "    new_word=\"\"\n",
    "    for each in word:\n",
    "        new_word=new_word+each\n",
    "        if each in vowels:\n",
    "            count+=1            \n",
    "    for i in new_word:\n",
    "        if i in vowels:\n",
    "            new_word=new_word.replace(i, \"\")\n",
    "    print(new_word+str(count))\n",
    "remove_vowels(input())"
   ]
  },
  {
   "cell_type": "code",
   "execution_count": 1,
   "metadata": {},
   "outputs": [
    {
     "name": "stdout",
     "output_type": "stream",
     "text": [
      "Abcba\n",
      "False\n"
     ]
    }
   ],
   "source": [
    "#2\n",
    "def palindrome(str, word=\"\"):\n",
    "    count=0\n",
    "    for each in str:\n",
    "        word=each+word\n",
    "    if word==str:\n",
    "        print(\"True\")\n",
    "    else:\n",
    "        print(\"False\")\n",
    "    \n",
    "palindrome(input())\n",
    "        \n",
    "        "
   ]
  },
  {
   "cell_type": "code",
   "execution_count": null,
   "metadata": {},
   "outputs": [],
   "source": [
    "#3\n",
    "def ending(word, x=\"fully\", y=\"ly\", z=\"ful\"):\n",
    "    if len(word)<4:\n",
    "        print (word)\n",
    "    elif z in word:\n",
    "        print(word+y)\n",
    "    else:\n",
    "        print(word+x)\n",
    "ending(input())"
   ]
  },
  {
   "cell_type": "code",
   "execution_count": null,
   "metadata": {},
   "outputs": [],
   "source": [
    "#Medium\n",
    "#1\n",
    "def letters(word,ucount=0,lcount=0):\n",
    "    for each in word:\n",
    "        if each>=\"A\" and each<=\"Z\":\n",
    "            ucount+=1\n",
    "        else:\n",
    "            lcount+=1\n",
    "    if ucount>lcount:\n",
    "        print(word.upper())\n",
    "    else:\n",
    "        print(word.lower())\n",
    "letters(input())"
   ]
  },
  {
   "cell_type": "code",
   "execution_count": null,
   "metadata": {},
   "outputs": [],
   "source": [
    "#2\n",
    "def check_input(str,ncount=0,ccount=0):\n",
    "    for i in str:\n",
    "        if i>=\"A\" or i>=\"a\":\n",
    "                ccount+=1\n",
    "        else:\n",
    "            ncount+=1\n",
    "    if ccount==0:\n",
    "        print(\"NUMBER\")\n",
    "    elif ncount==0:\n",
    "        print(\"WORD\")\n",
    "    else:\n",
    "        print(\"MIXED\")\n",
    "\n",
    "check_input(input())"
   ]
  },
  {
   "cell_type": "code",
   "execution_count": null,
   "metadata": {},
   "outputs": [],
   "source": [
    "#3\n",
    "def letters(word,s=0,b=0,e=0,count=0):\n",
    "    for i in range(len(word)):\n",
    "        if word[i]>=\"A\" and word[i]<=\"Z\":\n",
    "            count+=1\n",
    "            if count==2:\n",
    "                e=i\n",
    "            else:\n",
    "                b=i\n",
    "        s=e-b\n",
    "    if s<=1:\n",
    "        print(\"BLANK\")\n",
    "    else:\n",
    "        print(word[b+1:e])\n",
    "letters(input())\n",
    "                \n",
    "            "
   ]
  },
  {
   "cell_type": "code",
   "execution_count": null,
   "metadata": {},
   "outputs": [],
   "source": [
    "#4\n",
    "def too_good(word, str=\"too good\"):\n",
    "    if str in word:\n",
    "        print(word.replace(\"too good\", \"not excellent\"))\n",
    "    else:\n",
    "        print(word)\n",
    "too_good(input())\n",
    "    "
   ]
  },
  {
   "cell_type": "code",
   "execution_count": null,
   "metadata": {},
   "outputs": [],
   "source": [
    "#Hard\n",
    "#1\n",
    "def common_c(word1,word2,str=\"\"):\n",
    "    for each in word1:\n",
    "        if each in word2:\n",
    "            str=str+each\n",
    "    for each in word2:\n",
    "        if each in word1:\n",
    "            str=str+each\n",
    "    if str==\"\":\n",
    "        print(\"Nothing in common\")\n",
    "    else:\n",
    "        print(str)\n",
    "\n",
    "common_c(input(), input())"
   ]
  },
  {
   "cell_type": "code",
   "execution_count": null,
   "metadata": {},
   "outputs": [],
   "source": [
    "#2\n",
    "def Pal_string(word,str=\"\",str2=\"\",s=\"\"):\n",
    "    for i in range(3):\n",
    "        str=str+word[i]\n",
    "    for i in range(-1,-4,-1):\n",
    "        str2=word[i]+str2\n",
    "    s=word[word.find(str)+3:word.rfind(str2)]\n",
    "    if str==str2 and str in s:\n",
    "            print(str)\n",
    "    else:\n",
    "        print(\"Not Palindrome Substring\")\n",
    "\n",
    "Pal_string(input())"
   ]
  },
  {
   "cell_type": "code",
   "execution_count": 1,
   "metadata": {},
   "outputs": [
    {
     "name": "stdout",
     "output_type": "stream",
     "text": [
      "Enter new password:ohMyBracu\n",
      "Digit missing,Special character missing,"
     ]
    }
   ],
   "source": [
    "#3\n",
    "string=input('Enter new password:')\n",
    "i=0\n",
    "x=0\n",
    "while i<len(string):\n",
    "    if string[i].islower():\n",
    "        x+=1\n",
    "        break\n",
    "    elif i==len(string)-1:\n",
    "        print ('Lowercase letter missing',end=',')\n",
    "    i+=1\n",
    "i=0\n",
    "while i<len(string):\n",
    "    if string[i].isupper():\n",
    "        x+=1\n",
    "        break\n",
    "    elif i==len(string)-1:\n",
    "        print ('Uppercase letter missing',end=',')\n",
    "    i+=1\n",
    "i=0\n",
    "j=0\n",
    "digitchecker=0\n",
    "while j<=9:\n",
    "    k=str(j)\n",
    "    while i<len(string):\n",
    "        if string[i]==k:\n",
    "            x+=1\n",
    "            digitchecker=1\n",
    "            break\n",
    "        i+=1\n",
    "    if digitchecker==1:\n",
    "        break\n",
    "    i=0\n",
    "    j+=1\n",
    "if digitchecker==0:\n",
    "    print ('Digit missing',end=',')\n",
    "i=0\n",
    "while i<len(string):\n",
    "    if string[i]=='_':\n",
    "        x+=1\n",
    "        break\n",
    "    elif string[i]=='$':\n",
    "        x+=1\n",
    "        break\n",
    "    elif string[i]=='#':\n",
    "        x+=1\n",
    "        break\n",
    "    elif string[i]=='@':\n",
    "        x+=1\n",
    "        break\n",
    "    elif i==len(string)-1:\n",
    "        print ('Special character missing',end=',')\n",
    "    i+=1\n",
    "if x==4:\n",
    "    print ('Ok')"
   ]
  },
  {
   "cell_type": "code",
   "execution_count": null,
   "metadata": {},
   "outputs": [],
   "source": []
  }
 ],
 "metadata": {
  "kernelspec": {
   "display_name": "Python 3",
   "language": "python",
   "name": "python3"
  },
  "language_info": {
   "codemirror_mode": {
    "name": "ipython",
    "version": 3
   },
   "file_extension": ".py",
   "mimetype": "text/x-python",
   "name": "python",
   "nbconvert_exporter": "python",
   "pygments_lexer": "ipython3",
   "version": "3.7.6"
  }
 },
 "nbformat": 4,
 "nbformat_minor": 4
}

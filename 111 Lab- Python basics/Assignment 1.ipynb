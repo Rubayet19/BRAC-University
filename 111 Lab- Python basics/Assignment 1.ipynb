{
 "cells": [
  {
   "cell_type": "code",
   "execution_count": null,
   "metadata": {},
   "outputs": [],
   "source": [
    "#Easy\n",
    "#1\n",
    "count=1\n",
    "while count<=30:\n",
    "    if count%3==0 or count%5==0:\n",
    "        print (count)\n",
    "    count+=1\n",
    "  "
   ]
  },
  {
   "cell_type": "code",
   "execution_count": null,
   "metadata": {},
   "outputs": [],
   "source": [
    "#2\n",
    "num1=int(input(\"Enter First Number\"))\n",
    "num2=int(input(\"Enter First Number\"))\n",
    "num3=int(input(\"Enter First Number\"))\n",
    "\n",
    "if num1>num2 and num1>num3:\n",
    "    print(num1, \" is the maximum number\")\n",
    "elif num2>num1 and num2>num3:\n",
    "    print(num2, \" is the maximum number\")\n",
    "else:\n",
    "    print(num3, \" is the maximum number\")"
   ]
  },
  {
   "cell_type": "code",
   "execution_count": null,
   "metadata": {},
   "outputs": [],
   "source": [
    "#3\n",
    "marks=int(input(\"Enter marks \"))\n",
    "if marks>=90:\n",
    "    print(\"A\")\n",
    "elif marks>=85 and marks<=89:\n",
    "    print(\"A-\")\n",
    "elif marks>=80 and marks<=84:\n",
    "    print(\"B+\")\n",
    "elif marks>=75 and marks<=79:\n",
    "    print(\"B\")\n",
    "elif marks>=70 and marks<=74:\n",
    "    print(\"B-\")\n",
    "elif marks>=65 and marks<=69:\n",
    "    print(\"C+\")\n",
    "elif marks>=60 and marks<=64:\n",
    "    print(\"C\")\n",
    "elif marks>=57 and marks<=59:\n",
    "    print(\"C-\")\n",
    "elif marks>=55 and marks<=56:\n",
    "    print(\"D+\")\n",
    "elif marks>=52 and marks<=54:\n",
    "    print(\"D\")\n",
    "elif marks>=50 and marks<=51:\n",
    "    print(\"D-\")\n",
    "else:\n",
    "    print(\"F\")"
   ]
  },
  {
   "cell_type": "code",
   "execution_count": null,
   "metadata": {},
   "outputs": [],
   "source": [
    "#4\n",
    "num=int(input(\"Enter Number \"))\n",
    "div=1\n",
    "count=0\n",
    "while div<=num:\n",
    "    if num%div==0:\n",
    "        count=count+1\n",
    "    div=div+1\n",
    "if count>2:\n",
    "    print(\"Your number is not a prime number\")\n",
    "else:\n",
    "    print(\"Your number is a prime number\")\n",
    "    \n"
   ]
  },
  {
   "cell_type": "code",
   "execution_count": null,
   "metadata": {},
   "outputs": [],
   "source": [
    "#Medium\n",
    "#1\n",
    "num=int(input(\"Enter Number\"))\n",
    "n1=0\n",
    "n2=1\n",
    "if num==0:\n",
    "    print (num)\n",
    "else:\n",
    "    while n1<=num:\n",
    "        print(n1)\n",
    "        nth=n1+n2\n",
    "        n1=n2\n",
    "        n2=nth\n",
    "        \n"
   ]
  },
  {
   "cell_type": "code",
   "execution_count": null,
   "metadata": {},
   "outputs": [],
   "source": [
    "#2\n",
    "num=int(input(\"Enter number\"))\n",
    "while num>0:\n",
    "    val=num%10\n",
    "    print (val)\n",
    "    num=num//10"
   ]
  },
  {
   "cell_type": "code",
   "execution_count": null,
   "metadata": {},
   "outputs": [],
   "source": [
    "#3\n",
    "num=int(input(\"Enter Number\"))\n",
    "div=1\n",
    "sum=0\n",
    "while div<num:\n",
    "    if num%div==0:\n",
    "        sum+=div\n",
    "    div+=1\n",
    "if sum==num:\n",
    "    print(\"It is a perfect number\")\n",
    "else:\n",
    "    print(\"It is not a perfect number\")"
   ]
  },
  {
   "cell_type": "code",
   "execution_count": null,
   "metadata": {},
   "outputs": [],
   "source": [
    "#Hard\n",
    "#1\n",
    "num=(input(\"Enter number\"))\n",
    "count=0\n",
    "currentcount=0\n",
    "for i in range(0,len(num),1):\n",
    "    prevCount=0\n",
    "    rep=0\n",
    "    if i>0:\n",
    "        currentcount=i\n",
    "        while prevCount<currentcount:\n",
    "            if num[currentcount]==num[prevCount]:\n",
    "                rep+=1\n",
    "            prevCount+=1\n",
    "    if rep==0:\n",
    "        count+=1\n",
    "print(count)\n",
    "\n",
    "    "
   ]
  },
  {
   "cell_type": "code",
   "execution_count": 6,
   "metadata": {},
   "outputs": [
    {
     "name": "stdout",
     "output_type": "stream",
     "text": [
      "5\n",
      "    *\n",
      "   * *\n",
      "  *   *\n",
      " *     *\n",
      "*********\n",
      " *     *\n",
      "  *   *\n",
      "   * *\n",
      "    *\n"
     ]
    }
   ],
   "source": [
    "#2\n",
    "num=int(input())\n",
    "space=0\n",
    "count=0\n",
    "midSpace=1\n",
    "begSpace=num-1\n",
    "finCount=num*2-1\n",
    "invBegSpace=1\n",
    "for i in range(0,num,1):\n",
    "    if i==0:\n",
    "        space=begSpace\n",
    "        while space>=1:\n",
    "            print(\" \",end=\"\")\n",
    "            space-=1\n",
    "        print(\"*\")\n",
    "    elif i<num-1:\n",
    "        fspace=begSpace\n",
    "        while fspace>=1:\n",
    "            print(\" \", end=(\"\"))\n",
    "            fspace-=1\n",
    "        print(\"*\", end=(\"\"))\n",
    "        mspace=midSpace\n",
    "        while mspace>=1:\n",
    "            print(\" \", end=(\"\"))\n",
    "            mspace-=1\n",
    "        print(\"*\")\n",
    "    else:\n",
    "        while finCount>=1:\n",
    "            print(\"*\", end=(\"\"))\n",
    "            finCount-=1\n",
    "    begSpace-=1  \n",
    "    if i>0:\n",
    "        midSpace+=2\n",
    "print(\"\")\n",
    "invMedSpace=midSpace-4\n",
    "for i in range(0,num-1,1):\n",
    "    if i<num-2:\n",
    "        bspace=invBegSpace\n",
    "        while bspace>=1:\n",
    "            print(\" \", end=(\"\"))\n",
    "            bspace-=1\n",
    "        print(\"*\", end=(\"\"))\n",
    "        mspace=invMedSpace\n",
    "        while mspace>=1:\n",
    "            print(\" \", end=(\"\"))\n",
    "            mspace-=1\n",
    "        print(\"*\")\n",
    "    else:\n",
    "        lspace=num-1\n",
    "        while lspace>=1:\n",
    "            print(\" \", end=(\"\"))\n",
    "            lspace-=1\n",
    "        print(\"*\")\n",
    "    \n",
    "    invBegSpace+=1\n",
    "    if i<=num-2:\n",
    "        invMedSpace-=2\n",
    "        "
   ]
  },
  {
   "cell_type": "code",
   "execution_count": 1,
   "metadata": {},
   "outputs": [
    {
     "name": "stdout",
     "output_type": "stream",
     "text": [
      "89\n",
      "15\n"
     ]
    }
   ],
   "source": [
    "#3\n",
    "num= int(input())\n",
    "binConv=num\n",
    "count=0\n",
    "ans=0\n",
    "while binConv>0:\n",
    "    if binConv%2!=0:\n",
    "        count+=1\n",
    "    binConv=binConv//2\n",
    "#conver dec to binary\n",
    "for i in range(0,count,1):\n",
    "    ans=2**i+ans\n",
    "print(ans)"
   ]
  },
  {
   "cell_type": "code",
   "execution_count": null,
   "metadata": {},
   "outputs": [],
   "source": []
  }
 ],
 "metadata": {
  "kernelspec": {
   "display_name": "Python 3",
   "language": "python",
   "name": "python3"
  },
  "language_info": {
   "codemirror_mode": {
    "name": "ipython",
    "version": 3
   },
   "file_extension": ".py",
   "mimetype": "text/x-python",
   "name": "python",
   "nbconvert_exporter": "python",
   "pygments_lexer": "ipython3",
   "version": "3.7.6"
  }
 },
 "nbformat": 4,
 "nbformat_minor": 4
}

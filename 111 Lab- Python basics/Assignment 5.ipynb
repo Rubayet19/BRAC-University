{
 "cells": [
  {
   "cell_type": "code",
   "execution_count": null,
   "metadata": {},
   "outputs": [],
   "source": [
    "str=input()\n",
    "d=dict(x.split(\": \") for x in str.split(\", \"))\n",
    "no=''\n",
    "while True:\n",
    "    no=input()\n",
    "    if no == 'stop' or no==\"STOP\":\n",
    "        break\n",
    "    for v in d.values():\n",
    "        if no == v:\n",
    "            print('True')\n",
    "            break\n",
    "    else:\n",
    "        print(\"False\")\n"
   ]
  },
  {
   "cell_type": "code",
   "execution_count": 1,
   "metadata": {},
   "outputs": [
    {
     "name": "stdout",
     "output_type": "stream",
     "text": [
      "Physics: 82, Math : 65,History: 75\n"
     ]
    },
    {
     "ename": "TypeError",
     "evalue": "'builtin_function_or_method' object is not iterable",
     "output_type": "error",
     "traceback": [
      "\u001b[1;31m---------------------------------------------------------------------------\u001b[0m",
      "\u001b[1;31mTypeError\u001b[0m                                 Traceback (most recent call last)",
      "\u001b[1;32m<ipython-input-1-fb02eba017d8>\u001b[0m in \u001b[0;36m<module>\u001b[1;34m\u001b[0m\n\u001b[0;32m      1\u001b[0m \u001b[0mstr\u001b[0m\u001b[1;33m=\u001b[0m\u001b[0minput\u001b[0m\u001b[1;33m(\u001b[0m\u001b[1;33m)\u001b[0m\u001b[1;33m\u001b[0m\u001b[1;33m\u001b[0m\u001b[0m\n\u001b[0;32m      2\u001b[0m \u001b[0md\u001b[0m\u001b[1;33m=\u001b[0m\u001b[0mdict\u001b[0m\u001b[1;33m(\u001b[0m\u001b[0mx\u001b[0m\u001b[1;33m.\u001b[0m\u001b[0msplit\u001b[0m\u001b[1;33m(\u001b[0m\u001b[1;34m\":\"\u001b[0m\u001b[1;33m)\u001b[0m \u001b[1;32mfor\u001b[0m \u001b[0mx\u001b[0m \u001b[1;32min\u001b[0m \u001b[0mstr\u001b[0m\u001b[1;33m.\u001b[0m\u001b[0msplit\u001b[0m\u001b[1;33m(\u001b[0m\u001b[1;34m\",\"\u001b[0m\u001b[1;33m)\u001b[0m\u001b[1;33m)\u001b[0m\u001b[1;33m\u001b[0m\u001b[1;33m\u001b[0m\u001b[0m\n\u001b[1;32m----> 3\u001b[1;33m \u001b[0mprint\u001b[0m\u001b[1;33m(\u001b[0m\u001b[1;34m\"Maximum:\"\u001b[0m\u001b[1;33m,\u001b[0m \u001b[0mmax\u001b[0m\u001b[1;33m(\u001b[0m\u001b[0md\u001b[0m\u001b[1;33m.\u001b[0m\u001b[0mkeys\u001b[0m\u001b[1;33m)\u001b[0m\u001b[1;33m)\u001b[0m\u001b[1;33m\u001b[0m\u001b[1;33m\u001b[0m\u001b[0m\n\u001b[0m\u001b[0;32m      4\u001b[0m \u001b[0mprint\u001b[0m\u001b[1;33m(\u001b[0m\u001b[1;34m\"Minimum:\"\u001b[0m\u001b[1;33m,\u001b[0m \u001b[0mmin\u001b[0m\u001b[1;33m(\u001b[0m\u001b[0md\u001b[0m\u001b[1;33m.\u001b[0m\u001b[0mvalues\u001b[0m\u001b[1;33m)\u001b[0m\u001b[1;33m)\u001b[0m\u001b[1;33m\u001b[0m\u001b[1;33m\u001b[0m\u001b[0m\n",
      "\u001b[1;31mTypeError\u001b[0m: 'builtin_function_or_method' object is not iterable"
     ]
    }
   ],
   "source": [
    "str=input()\n",
    "d=dict(x.split(\":\") for x in str.split(\",\"))\n",
    "print(\"Maximum:\", max(d.keys))\n",
    "print(\"Minimum:\", min(d.values))"
   ]
  },
  {
   "cell_type": "code",
   "execution_count": null,
   "metadata": {},
   "outputs": [],
   "source": [
    "\n",
    "d=dict()\n",
    "i =0\n",
    "while i<10:\n",
    "    str=input()\n",
    "    if str not in d:\n",
    "        d[str]=1\n",
    "        i+=1\n",
    "    else:\n",
    "        print(\"Enter different no\")\n",
    "        i-=1\n"
   ]
  },
  {
   "cell_type": "code",
   "execution_count": 7,
   "metadata": {},
   "outputs": [
    {
     "name": "stdout",
     "output_type": "stream",
     "text": [
      "a: 100, b: 100, c: 200, d: 300\n",
      "a: 300, b: 200, d: 400, e: 200\n",
      "(200, 300, 400, 700)\n"
     ]
    }
   ],
   "source": [
    "str=input()\n",
    "str2=input()\n",
    "\n",
    "dict1=dict(x.split(\": \") for x in str.split(\",\"))\n",
    "for k,v in dict1.items():\n",
    "       dict1[k]=int(v) \n",
    "        \n",
    "dict2=dict(x.split(\": \") for x in str2.split(\",\"))\n",
    "for k,v in dict2.items():\n",
    "    dict2[k]=int(v)\n",
    "dict3={}\n",
    "for k in dict1:\n",
    "    if k in dict2:\n",
    "        dict3[k]=dict1[k]+dict2[k]\n",
    "    else:\n",
    "        dict3[k]=dict1[k]\n",
    "for k in dict2:\n",
    "    if k not in dict3:\n",
    "        dict3[k]=dict2[k]\n",
    "v=tuple(sorted(set(dict3.values())))\n",
    "print(v)"
   ]
  },
  {
   "cell_type": "code",
   "execution_count": 11,
   "metadata": {},
   "outputs": [
    {
     "name": "stdout",
     "output_type": "stream",
     "text": [
      "10\n",
      "10\n",
      "10\n",
      "20\n",
      "30\n",
      "STOP\n",
      "{'10': 3, '20': 1, '30': 1}\n",
      "10 - 3\n",
      "20 - 1\n",
      "30 - 1\n"
     ]
    }
   ],
   "source": [
    "dict1={}\n",
    "while True:\n",
    "    str=input()\n",
    "    if str!=\"STOP\":\n",
    "        if str not in dict1:\n",
    "            dict1[str]=int(1)\n",
    "        else:\n",
    "            dict1[str]+=1\n",
    "    else:\n",
    "        break\n",
    "for i in dict1:\n",
    "    print(i,'-',dict1[i])\n",
    "        \n"
   ]
  },
  {
   "cell_type": "code",
   "execution_count": 5,
   "metadata": {},
   "outputs": [
    {
     "name": "stdout",
     "output_type": "stream",
     "text": [
      "key1 : value1, key2 : value2\n",
      "{'value1': ['key1'], 'value2': [' key2']}\n"
     ]
    }
   ],
   "source": [
    "str=input()\n",
    "d=dict(x.split(\" : \") for x in str.split(\",\"))\n",
    "dict2={}\n",
    "for k,v in d.items():\n",
    "    dict2.setdefault(v,[]).append(k)\n",
    "print(dict2)"
   ]
  },
  {
   "cell_type": "code",
   "execution_count": 12,
   "metadata": {},
   "outputs": [
    {
     "name": "stdout",
     "output_type": "stream",
     "text": [
      "sex\n",
      "rex\n",
      "not anogram\n"
     ]
    }
   ],
   "source": [
    "str1=input()\n",
    "str2=input()\n",
    "d1={}\n",
    "d2={}\n",
    "for x in str1:\n",
    "    if x not in d1:\n",
    "        d1[x]=1\n",
    "    else:\n",
    "        d1[x]+=1\n",
    "for x in str2:\n",
    "    if x not in d2:\n",
    "        d2[x]=1\n",
    "    else:\n",
    "        d2[x]+=1\n",
    "\n",
    "if d1==d2:\n",
    "    print(\"anogram\")\n",
    "else:\n",
    "    print(\"not anogram\")\n"
   ]
  },
  {
   "cell_type": "code",
   "execution_count": 6,
   "metadata": {},
   "outputs": [
    {
     "name": "stdout",
     "output_type": "stream",
     "text": [
      "hello\n",
      "4433555555666"
     ]
    }
   ],
   "source": [
    "str=input().upper()\n",
    "d={1:['.', ',', '?', '!', ':'], 3:['D','E','F'], 4:['G','H','I'], 5:['J','K','L'],6:['M','N','O']}\n",
    "lst=[]\n",
    "for i in str:\n",
    "    for k,v in d.items():\n",
    "        for x in range(len(v)):\n",
    "            if v[x]==i:\n",
    "                c=0\n",
    "                while c<x+1:\n",
    "                    print(k,end='')\n",
    "                    c+=1\n",
    "                \n",
    "            "
   ]
  },
  {
   "cell_type": "code",
   "execution_count": 24,
   "metadata": {},
   "outputs": [
    {
     "name": "stdout",
     "output_type": "stream",
     "text": [
      "{'a': 30, 'b': 50, 'e': 45, 'c': 29, 'd': 39}\n"
     ]
    }
   ],
   "source": [
    "dic1={'a':30, 'b':50,'e':45}\n",
    "dic2={'c':29, 'd':39 }\n",
    "dic3={}\n",
    "for d in (dic1,dic2): \n",
    "    dic3.update(d)\n",
    "print(dic3)"
   ]
  },
  {
   "cell_type": "code",
   "execution_count": null,
   "metadata": {},
   "outputs": [],
   "source": []
  }
 ],
 "metadata": {
  "kernelspec": {
   "display_name": "Python 3",
   "language": "python",
   "name": "python3"
  },
  "language_info": {
   "codemirror_mode": {
    "name": "ipython",
    "version": 3
   },
   "file_extension": ".py",
   "mimetype": "text/x-python",
   "name": "python",
   "nbconvert_exporter": "python",
   "pygments_lexer": "ipython3",
   "version": "3.7.6"
  }
 },
 "nbformat": 4,
 "nbformat_minor": 4
}

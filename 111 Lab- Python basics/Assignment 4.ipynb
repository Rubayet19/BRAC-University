{
 "cells": [
  {
   "cell_type": "code",
   "execution_count": null,
   "metadata": {},
   "outputs": [],
   "source": [
    "#Easy\n",
    "#1\n",
    "lst=[]\n",
    "for i in range(10):\n",
    "    no=int(input())\n",
    "    lst.append(no)\n",
    "new_lst=lst[::-1]\n",
    "print(new_lst)"
   ]
  },
  {
   "cell_type": "code",
   "execution_count": 1,
   "metadata": {},
   "outputs": [
    {
     "name": "stdout",
     "output_type": "stream",
     "text": [
      "1, 2, 3\n",
      "4, 5, 6\n",
      "['1', '2', '4', '5', '6']\n"
     ]
    }
   ],
   "source": [
    "#2\n",
    "def replace_list(list_1, list_2):\n",
    "    list1= []\n",
    "    list2=[]\n",
    "    for element in list_1:\n",
    "        list1.append(element)\n",
    "    for element in list_2:\n",
    "        list2.append(element)\n",
    "    list1.pop()\n",
    "    for value in list2:\n",
    "        list1.append(value)\n",
    "    return list1\n",
    "\n",
    "str1=input()\n",
    "str2=input()\n",
    "list_sp1=str1.split(', ')\n",
    "list_sp2 = str2.split(', ')\n",
    "print(replace_list(list_sp1,list_sp2))"
   ]
  },
  {
   "cell_type": "code",
   "execution_count": null,
   "metadata": {},
   "outputs": [],
   "source": [
    "#3\n",
    "lst=[]\n",
    "for i in range(10):\n",
    "    no=input()\n",
    "    if no in lst:\n",
    "        print(\"Enter different Number \")\n",
    "    else:\n",
    "        lst.append(no)\n",
    "print(lst)\n",
    "    "
   ]
  },
  {
   "cell_type": "code",
   "execution_count": 2,
   "metadata": {},
   "outputs": [
    {
     "name": "stdout",
     "output_type": "stream",
     "text": [
      "10\n",
      "20\n",
      "20\n",
      "30\n",
      "stop\n",
      "30 - 1 times\n",
      "10 - 1 times\n",
      "20 - 2 times\n"
     ]
    }
   ],
   "source": [
    "#Medium\n",
    "#1\n",
    "lst=[]\n",
    "no=''\n",
    "while no!=\"stop\":\n",
    "    no=input()\n",
    "    lst.append(no)\n",
    "lst.pop()\n",
    "num_lst=set(lst)\n",
    "\n",
    "for no in num_lst:\n",
    "    print(f'{no} - {lst.count(no)} times')"
   ]
  },
  {
   "cell_type": "code",
   "execution_count": 5,
   "metadata": {},
   "outputs": [
    {
     "name": "stdout",
     "output_type": "stream",
     "text": [
      "How many Lists 4\n",
      "4 5 6\n",
      "10 11 12\n",
      "5\n",
      "6\n",
      "33\n",
      "[10, 11, 12]\n"
     ]
    }
   ],
   "source": [
    "#2\n",
    "no= int(input(\"How many Lists \"))\n",
    "sumlist=0\n",
    "output=[]\n",
    "while no:\n",
    "    str= input()\n",
    "    temp= str.split(' ')\n",
    "    num_lst=[]\n",
    "    for i in temp:\n",
    "        num_lst.append(int(i))\n",
    "    no -= 1\n",
    "    if sumlist < sum(  num_lst):\n",
    "        sumlist=sum(  num_lst)\n",
    "        output=  num_lst\n",
    "print(sumlist,output,sep='\\n')"
   ]
  },
  {
   "cell_type": "code",
   "execution_count": 7,
   "metadata": {},
   "outputs": [
    {
     "name": "stdout",
     "output_type": "stream",
     "text": [
      "2 3 6\n",
      "3 4 5\n",
      "[[2, 3, 6], [3, 4, 5]]\n",
      "[]\n",
      "[6, 8, 10, 9, 12, 15, 18, 24, 30]\n"
     ]
    }
   ],
   "source": [
    "#3\n",
    "inlst=[]\n",
    "finlist=[]\n",
    "for num in range(2):\n",
    "    str= input()\n",
    "    temp=str.split(' ')\n",
    "    num_list = []\n",
    "    for value in temp:\n",
    "        num_list.append(int(value))\n",
    "    finlist.append(num_list)\n",
    "out_list=[]\n",
    "print (finlist)\n",
    "print (inlst)\n",
    "for value1 in finlist[0]:\n",
    "    for value2 in finlist[1]:\n",
    "        out_list.append(value1*value2)\n",
    "print(out_list)"
   ]
  },
  {
   "cell_type": "code",
   "execution_count": null,
   "metadata": {},
   "outputs": [],
   "source": [
    "#4\n",
    "num=int(input(\"Number \"))\n",
    "str=input()\n",
    "inlist=str.split(', ')\n",
    "outlist=[[] for count in range(num)]\n",
    "for pos,value in enumerate(inlist):\n",
    "    outlist[pos%num]+=[value]\n",
    "print(outlist)"
   ]
  },
  {
   "cell_type": "code",
   "execution_count": null,
   "metadata": {},
   "outputs": [
    {
     "name": "stdout",
     "output_type": "stream",
     "text": [
      "Input: 3 6 9 12 15\n",
      "UB Jumper\n"
     ]
    }
   ],
   "source": [
    "#Hard\n",
    "#1\n",
    "num_list=[]\n",
    "while True:\n",
    "    flag=True\n",
    "    str=input(\"Input: \")\n",
    "    if str == 'stop':\n",
    "        break\n",
    "    temp = str.split(' ')\n",
    "    for str in temp:\n",
    "        num_list.append(int(str))\n",
    "    for i in range(len(num_list)-1):\n",
    "        if abs(num_list[i+1]-num_list[i]) not in range(len(num_list)):\n",
    "            flag=False\n",
    "            break\n",
    "    if flag:\n",
    "        print('UB Jumper')\n",
    "    else:\n",
    "        print('Not UB Jumper')"
   ]
  },
  {
   "cell_type": "code",
   "execution_count": 1,
   "metadata": {},
   "outputs": [
    {
     "name": "stdout",
     "output_type": "stream",
     "text": [
      "Bracu1234\n",
      "['a', 'c', 'r', 'u', 'B', '1', '3', '2', '4']\n"
     ]
    }
   ],
   "source": [
    "#2\n",
    "string=input()\n",
    "up_list=[]\n",
    "low_list=[]\n",
    "odd_list=[]\n",
    "even_list=[]\n",
    "for value in string:\n",
    "    if value.isupper():\n",
    "        up_list.append(value)\n",
    "    elif value.islower():\n",
    "        low_list.append(value)\n",
    "    elif int(value)%2:\n",
    "        odd_list.append(value)\n",
    "    else:\n",
    "        even_list.append(value)\n",
    "low_list.sort()\n",
    "up_list.sort()\n",
    "odd_list.sort()\n",
    "even_list.sort()\n",
    "out_list=low_list + up_list + odd_list+ even_list\n",
    "print(''.join(out_list))\n"
   ]
  },
  {
   "cell_type": "code",
   "execution_count": null,
   "metadata": {},
   "outputs": [],
   "source": [
    "#3\n",
    "nk=input('n,k: ')\n",
    "part = input(\"Participation: \")\n",
    "temp = nk.split()\n",
    "nklist=[]\n",
    "for value in temp:\n",
    "    nklist.append(int(value))\n",
    "temp=part.split()\n",
    "partlist=[]\n",
    "for value in temp:\n",
    "    partlist.append(int(value))\n",
    "worklist=[]\n",
    "for i in partlist:\n",
    "    if i+nklist[1]<=5:\n",
    "        worklist.append(value)\n",
    "print(len(worklist)//3)"
   ]
  },
  {
   "cell_type": "code",
   "execution_count": null,
   "metadata": {},
   "outputs": [],
   "source": []
  }
 ],
 "metadata": {
  "kernelspec": {
   "display_name": "Python 3",
   "language": "python",
   "name": "python3"
  },
  "language_info": {
   "codemirror_mode": {
    "name": "ipython",
    "version": 3
   },
   "file_extension": ".py",
   "mimetype": "text/x-python",
   "name": "python",
   "nbconvert_exporter": "python",
   "pygments_lexer": "ipython3",
   "version": "3.7.6"
  }
 },
 "nbformat": 4,
 "nbformat_minor": 4
}

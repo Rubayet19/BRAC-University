{
  "cells": [
    {
      "cell_type": "markdown",
      "metadata": {
        "id": "McWh9j9bGmf0"
      },
      "source": [
        "#  ***MILESTONE*** **1**"
      ]
    },
    {
      "cell_type": "code",
      "execution_count": 1,
      "metadata": {
        "id": "g8lgSpxqMONf",
        "colab": {
          "base_uri": "https://localhost:8080/"
        },
        "outputId": "309843a3-a9e6-488d-f810-47d0972523d0"
      },
      "outputs": [
        {
          "output_type": "stream",
          "name": "stdout",
          "text": [
            "\u001b[K     |████████████████████████████████| 135 kB 12.2 MB/s \n",
            "\u001b[K     |████████████████████████████████| 1.6 MB 67.7 MB/s \n",
            "\u001b[?25h"
          ]
        }
      ],
      "source": [
        "!pip install keras-tuner -q\n",
        "import keras_tuner\n",
        "from tensorflow.keras.models import Sequential\n",
        "from tensorflow.keras.layers import Input, Dense\n",
        "from tensorflow.keras.datasets import mnist\n",
        "from tensorflow.keras.utils import to_categorical, plot_model  \n",
        "from sklearn.neural_network import MLPClassifier"
      ]
    },
    {
      "cell_type": "code",
      "execution_count": 2,
      "metadata": {
        "colab": {
          "base_uri": "https://localhost:8080/"
        },
        "id": "9EcFDG2gLKwK",
        "outputId": "95f7f44c-c11c-4d93-a656-2e4dbe29e51e"
      },
      "outputs": [
        {
          "output_type": "stream",
          "name": "stdout",
          "text": [
            "Mounted at /content/gdrive\n"
          ]
        }
      ],
      "source": [
        "from google.colab import drive\n",
        "drive.mount(\"/content/gdrive\")"
      ]
    },
    {
      "cell_type": "code",
      "execution_count": 3,
      "metadata": {
        "id": "XEQT4EbYLTaE"
      },
      "outputs": [],
      "source": [
        "import glob\n",
        "from skimage.io import imread\n",
        "from skimage.color import gray2rgb\n",
        "import pandas as pd, numpy as np\n",
        "from sklearn import datasets, preprocessing, linear_model\n",
        "from sklearn.preprocessing import LabelEncoder\n",
        "from sklearn.model_selection import train_test_split\n",
        "from sklearn.metrics import confusion_matrix\n",
        "\n",
        "def convert_to_csv(path_to_dataset):\n",
        "    image_paths = glob.glob(path_to_dataset + '/*/*/*.JPEG')\n",
        "    \n",
        "    train_imgs = []\n",
        "    test_imgs = []\n",
        "\n",
        "    for image_path in image_paths:\n",
        "        image = imread(image_path)\n",
        "        if image.shape[-1] != 3:\n",
        "            image = gray2rgb(image)\n",
        "        if image_path.split('/')[-3] == 'train':\n",
        "            train_imgs.append(image.ravel().tolist() + [image_path.split('/')[-2]])\n",
        "        else:\n",
        "            test_imgs.append(image.ravel().tolist() + [image_path.split('/')[-2]])\n",
        "    \n",
        "    img_0 = imread(image_paths[0])\n",
        "    column_names = [f\"p_{x}\" for x in range(np.prod(img_0.shape))] + ['label']\n",
        "    \n",
        "    train_df = pd.DataFrame(train_imgs, columns=column_names)\n",
        "    test_df = pd.DataFrame(test_imgs, columns=column_names)\n",
        "\n",
        "    train_df.to_csv(path_to_dataset+'/train.csv', index=False)\n",
        "    test_df.to_csv(path_to_dataset+'/test.csv', index=False)"
      ]
    },
    {
      "cell_type": "code",
      "execution_count": 4,
      "metadata": {
        "id": "LLHV5eYSLUjJ"
      },
      "outputs": [],
      "source": [
        "# path = '/content/gdrive/MyDrive/Group_5'\n",
        "# convert_to_csv(path)"
      ]
    },
    {
      "cell_type": "code",
      "execution_count": 5,
      "metadata": {
        "id": "qt4gfUMOLW_y"
      },
      "outputs": [],
      "source": [
        "train_data = pd.read_csv('/content/gdrive/MyDrive/Group_5/train.csv')\n",
        "test_data = pd.read_csv('/content/gdrive/MyDrive/Group_5/test.csv')"
      ]
    },
    {
      "cell_type": "code",
      "execution_count": 6,
      "metadata": {
        "id": "L1U71hvjR5Ic"
      },
      "outputs": [],
      "source": [
        "le = LabelEncoder()\n",
        "train_data['label'] = le.fit_transform(train_data['label'])\n",
        "test_data['label'] = le.fit_transform(test_data['label'])"
      ]
    },
    {
      "cell_type": "code",
      "execution_count": 7,
      "metadata": {
        "colab": {
          "base_uri": "https://localhost:8080/"
        },
        "id": "I-lbHXdbWyNI",
        "outputId": "e4bc074d-bde4-416b-9017-5130d1963209"
      },
      "outputs": [
        {
          "output_type": "stream",
          "name": "stdout",
          "text": [
            "shape of X1 = (2150, 12288)\n",
            "shape of y1 = (2150,)\n",
            "shape of X2 = (250, 12288)\n",
            "shape of y2 = (250,)\n"
          ]
        }
      ],
      "source": [
        "X1 = train_data.iloc[:,0:-1]\n",
        "y1 = train_data['label']\n",
        "\n",
        "X2 = test_data.iloc[:,0:-1]\n",
        "y2 = test_data['label']\n",
        "\n",
        "print(\"shape of X1 =\", X1.shape)\n",
        "print(\"shape of y1 =\", y1.shape)\n",
        "\n",
        "print(\"shape of X2 =\", X2.shape)\n",
        "print(\"shape of y2 =\", y2.shape)"
      ]
    },
    {
      "cell_type": "code",
      "execution_count": 8,
      "metadata": {
        "id": "X1Tl0D_IW0GY"
      },
      "outputs": [],
      "source": [
        "X1_norm = preprocessing.minmax_scale(X1)\n",
        "X2_norm = preprocessing.minmax_scale(X2)"
      ]
    },
    {
      "cell_type": "code",
      "execution_count": 9,
      "metadata": {
        "colab": {
          "base_uri": "https://localhost:8080/"
        },
        "id": "E0-MtRqdW-R5",
        "outputId": "90a7b15c-a981-478e-ac89-cf823c006db8"
      },
      "outputs": [
        {
          "output_type": "stream",
          "name": "stdout",
          "text": [
            "Training accuracy (%) = 88.23255813953489\n",
            "Testing accuracy (%) = 32.0\n"
          ]
        },
        {
          "output_type": "stream",
          "name": "stderr",
          "text": [
            "/usr/local/lib/python3.8/dist-packages/sklearn/linear_model/_logistic.py:814: ConvergenceWarning: lbfgs failed to converge (status=1):\n",
            "STOP: TOTAL NO. of ITERATIONS REACHED LIMIT.\n",
            "\n",
            "Increase the number of iterations (max_iter) or scale the data as shown in:\n",
            "    https://scikit-learn.org/stable/modules/preprocessing.html\n",
            "Please also refer to the documentation for alternative solver options:\n",
            "    https://scikit-learn.org/stable/modules/linear_model.html#logistic-regression\n",
            "  n_iter_i = _check_optimize_result(\n"
          ]
        }
      ],
      "source": [
        "model = linear_model.LogisticRegression(C = 1, fit_intercept=True, solver='lbfgs', max_iter=100)\n",
        "model = model.fit(X1_norm, y1)\n",
        "y_predict = model.predict(X2_norm)\n",
        "\n",
        "acc_training = np.mean(y1 == model.predict(X1_norm))*100\n",
        "acc_testing = np.mean(y2 == y_predict)*100\n",
        "print(\"Training accuracy (%) =\", acc_training)\n",
        "print(\"Testing accuracy (%) =\", acc_testing)"
      ]
    },
    {
      "cell_type": "code",
      "execution_count": 10,
      "metadata": {
        "colab": {
          "base_uri": "https://localhost:8080/"
        },
        "id": "zKXE5X7-2GGz",
        "outputId": "0e7fe472-b770-4497-abd2-2785c9cf12c3"
      },
      "outputs": [
        {
          "output_type": "stream",
          "name": "stdout",
          "text": [
            "[[13  7 15  5 10]\n",
            " [ 8 21  6  4 11]\n",
            " [17  6 21  3  3]\n",
            " [10 13 12  7  8]\n",
            " [10 13  6  3 18]]\n"
          ]
        }
      ],
      "source": [
        "CNF = confusion_matrix(y2, y_predict)\n",
        "print(CNF)"
      ]
    },
    {
      "cell_type": "code",
      "execution_count": 11,
      "metadata": {
        "colab": {
          "base_uri": "https://localhost:8080/"
        },
        "id": "tJQEKQsC2IX0",
        "outputId": "8687b9c2-791d-4932-85a5-adb15a1662e6"
      },
      "outputs": [
        {
          "output_type": "stream",
          "name": "stdout",
          "text": [
            "Sensitivity of fence : 0.26\n",
            "Specificity of fence : 0.775\n",
            "PPV of fence : 0.22413793103448276\n",
            "NPV of fence : 0.8072916666666666\n",
            "F1 Score of fence : 0.24074074074074073\n",
            "\n",
            "Sensitivity of pill-bottle : 0.42\n",
            "Specificity of pill-bottle : 0.805\n",
            "PPV of pill-bottle : 0.35\n",
            "NPV of pill-bottle : 0.8473684210526315\n",
            "F1 Score of pill-bottle : 0.3818181818181818\n",
            "\n",
            "Sensitivity of projectile : 0.42\n",
            "Specificity of projectile : 0.805\n",
            "PPV of projectile : 0.35\n",
            "NPV of projectile : 0.8473684210526315\n",
            "F1 Score of projectile : 0.3818181818181818\n",
            "\n",
            "Sensitivity of reel : 0.14\n",
            "Specificity of reel : 0.925\n",
            "PPV of reel : 0.3181818181818182\n",
            "NPV of reel : 0.8114035087719298\n",
            "F1 Score of reel : 0.19444444444444445\n",
            "\n",
            "Sensitivity of snail : 0.36\n",
            "Specificity of snail : 0.84\n",
            "PPV of snail : 0.36\n",
            "NPV of snail : 0.84\n",
            "F1 Score of snail : 0.36\n",
            "\n"
          ]
        }
      ],
      "source": [
        "FP = CNF.sum(axis=0) - np.diag(CNF)\n",
        "FN = CNF.sum(axis=1) - np.diag(CNF)\n",
        "TP = np.diag(CNF)\n",
        "TN = CNF.sum() - FP - FN - TP \n",
        "\n",
        "TPR = TP/(TP+FN)\n",
        "TNR = TN/(TN+FP) \n",
        "PPV = TP/(TP+FP)\n",
        "NPV = TN/(TN+FN)\n",
        "F1 = 2*((PPV)*(TPR)/(PPV + TPR)) \n",
        "\n",
        "for i in range(5):\n",
        "  dataset_name = \"\"\n",
        "  if i == 0:\n",
        "    dataset_name = \"fence\"\n",
        "  elif i == 1:\n",
        "    dataset_name = \"pill-bottle\"\n",
        "  elif i == 2:\n",
        "    dataset_name = \"projectile\"\n",
        "  elif i == 3:\n",
        "    dataset_name = \"reel\"\n",
        "  elif i == 4:\n",
        "    dataset_name = \"snail\"\n",
        "\n",
        "  print(\"Sensitivity of\",dataset_name,\":\",TPR[i])\n",
        "  print(\"Specificity of\",dataset_name,\":\",TNR[i])\n",
        "  print(\"PPV of\",dataset_name,\":\",PPV[i])\n",
        "  print(\"NPV of\",dataset_name,\":\",NPV[i])\n",
        "  print(\"F1 Score of\",dataset_name,\":\",F1[i])\n",
        "  print(\"\")"
      ]
    },
    {
      "cell_type": "code",
      "execution_count": 1,
      "metadata": {
        "id": "gV9f8I3sXscR"
      },
      "outputs": [],
      "source": [
        "# Everything is okay till this point \n",
        "\n",
        "# MILESTONE 2 QUESTIONS\n",
        "\n",
        "# 1. How does neural network extract complex features automatically?\n",
        "\n",
        "# 2. Train a four layer (one input layer, one output layer, two hidden layers) neural network using keras with some random number of neurons in the hidden layers on your dataset and \n",
        "#    use the test dataset to evaluate the model's performance (accuracy, sensitivity, specificity, confusion matrix). Use the logistic activation functions for the hidden layers, and softmax for the output layer. Compare the results\n",
        "#    with that of the Logistic Regression model you for Milestone 1.\n",
        "\n",
        "# 3. Train the same model again, but now use one of the technique you mentioned to deal with unbalanced dataset. How does the performance metrics change? Explain\n",
        "\n",
        "# 4. What are the hyper-parameters for a neural network model? What segment of the dataset is used to find these hyper-parameters (train/test/valid)? \n",
        "\n",
        "# 5. If your dataset is missing one of these segments, you need to create one by randomly splitting the train dataset. REMEMBER to set stratify=y in the train_test_split function. What does this parameter do?\n",
        "\n",
        "# 6. Use the keras-tuner library to find the optimal neural network hyperparameters for this model. Use BayesianOptimization tuner instead of RandomSearch tuner with  max_trials=300. \n",
        "#    Train each model for >= 100 epochs // Use the \"fixed\" dataset generated in step 3//. Use the following search space for the hyper-parameters:\n",
        "#    1. Number of hidden layers: hp.Int between 2 to 5\n",
        "#    2. Neurons in each hidden layer: hp.Int between 16 to 128 with a step size of 16\n",
        "#    3. Activation function of the hidden layers: hp.Choice between relu and sigmoid.\n",
        "\n",
        "# REMEMBER to use the validation set to tune the hyper-parameters, and the test set to report the final result. DO NOT use the test set to set any hyper parameter. \n",
        "# Compare the results with previous ones."
      ]
    },
    {
      "cell_type": "markdown",
      "metadata": {
        "id": "7HcFFqQNGZ07"
      },
      "source": [
        "# ***MILESTONE 2***"
      ]
    },
    {
      "cell_type": "code",
      "execution_count": 13,
      "metadata": {
        "colab": {
          "base_uri": "https://localhost:8080/"
        },
        "id": "mw40EHskVgkf",
        "outputId": "a6997841-5229-4b7e-fdac-0268e937e398"
      },
      "outputs": [
        {
          "output_type": "stream",
          "name": "stdout",
          "text": [
            "shape of X = (2150, 12288)\n",
            "shape of y = (2150, 5)\n"
          ]
        }
      ],
      "source": [
        "#Hyperparameter Tuning\n",
        "# Flatten the inputs\n",
        "X_train = X1_norm.reshape(X1_norm.shape[0], -1)\n",
        "X_test = X2_norm.reshape(X2_norm.shape[0], -1)\n",
        "\n",
        "# Convert the target to one-hot encoding\n",
        "y_train = to_categorical(y1, num_classes=5) \n",
        "y_test = to_categorical(y2, num_classes=5) \n",
        "\n",
        "\n",
        "print(\"shape of X =\", X_train.shape)\n",
        "print(\"shape of y =\", y_train.shape)"
      ]
    },
    {
      "cell_type": "code",
      "execution_count": 14,
      "metadata": {
        "colab": {
          "base_uri": "https://localhost:8080/"
        },
        "id": "CU42HO2NQodh",
        "outputId": "cd941c39-e7bd-4c05-9102-321717b71eed"
      },
      "outputs": [
        {
          "output_type": "stream",
          "name": "stdout",
          "text": [
            "Epoch 1/25\n",
            "68/68 [==============================] - 2s 25ms/step - loss: 1.5945 - accuracy: 0.2502\n",
            "Epoch 2/25\n",
            "68/68 [==============================] - 2s 25ms/step - loss: 1.5606 - accuracy: 0.2819\n",
            "Epoch 3/25\n",
            "68/68 [==============================] - 2s 24ms/step - loss: 1.5450 - accuracy: 0.2912\n",
            "Epoch 4/25\n",
            "68/68 [==============================] - 2s 25ms/step - loss: 1.5240 - accuracy: 0.3479\n",
            "Epoch 5/25\n",
            "68/68 [==============================] - 2s 24ms/step - loss: 1.5111 - accuracy: 0.3558\n",
            "Epoch 6/25\n",
            "68/68 [==============================] - 2s 24ms/step - loss: 1.4950 - accuracy: 0.3605\n",
            "Epoch 7/25\n",
            "68/68 [==============================] - 2s 24ms/step - loss: 1.4848 - accuracy: 0.3693\n",
            "Epoch 8/25\n",
            "68/68 [==============================] - 2s 23ms/step - loss: 1.4738 - accuracy: 0.3781\n",
            "Epoch 9/25\n",
            "68/68 [==============================] - 2s 23ms/step - loss: 1.4605 - accuracy: 0.3833\n",
            "Epoch 10/25\n",
            "68/68 [==============================] - 2s 25ms/step - loss: 1.4525 - accuracy: 0.3907\n",
            "Epoch 11/25\n",
            "68/68 [==============================] - 2s 24ms/step - loss: 1.4414 - accuracy: 0.4084\n",
            "Epoch 12/25\n",
            "68/68 [==============================] - 2s 25ms/step - loss: 1.4311 - accuracy: 0.4079\n",
            "Epoch 13/25\n",
            "68/68 [==============================] - 2s 25ms/step - loss: 1.4222 - accuracy: 0.4079\n",
            "Epoch 14/25\n",
            "68/68 [==============================] - 2s 24ms/step - loss: 1.4149 - accuracy: 0.4116\n",
            "Epoch 15/25\n",
            "68/68 [==============================] - 2s 25ms/step - loss: 1.4057 - accuracy: 0.4181\n",
            "Epoch 16/25\n",
            "68/68 [==============================] - 2s 25ms/step - loss: 1.4021 - accuracy: 0.4405\n",
            "Epoch 17/25\n",
            "68/68 [==============================] - 2s 25ms/step - loss: 1.3986 - accuracy: 0.4274\n",
            "Epoch 18/25\n",
            "68/68 [==============================] - 2s 26ms/step - loss: 1.3901 - accuracy: 0.4288\n",
            "Epoch 19/25\n",
            "68/68 [==============================] - 2s 26ms/step - loss: 1.3815 - accuracy: 0.4395\n",
            "Epoch 20/25\n",
            "68/68 [==============================] - 2s 26ms/step - loss: 1.3803 - accuracy: 0.4512\n",
            "Epoch 21/25\n",
            "68/68 [==============================] - 2s 24ms/step - loss: 1.3757 - accuracy: 0.4419\n",
            "Epoch 22/25\n",
            "68/68 [==============================] - 2s 26ms/step - loss: 1.3693 - accuracy: 0.4549\n",
            "Epoch 23/25\n",
            "68/68 [==============================] - 2s 26ms/step - loss: 1.3648 - accuracy: 0.4521\n",
            "Epoch 24/25\n",
            "68/68 [==============================] - 2s 25ms/step - loss: 1.3608 - accuracy: 0.4707\n",
            "Epoch 25/25\n",
            "68/68 [==============================] - 2s 25ms/step - loss: 1.3581 - accuracy: 0.4642\n",
            "8/8 [==============================] - 0s 12ms/step\n",
            "Testing accuracy (%) = 36.8\n"
          ]
        }
      ],
      "source": [
        "#Question 2\n",
        "model = Sequential()\n",
        "model.add( Input(shape = (12288,)) )          #input layer\n",
        "model.add( Dense(500, activation='sigmoid') )   #hidden layer\n",
        "model.add( Dense(250, activation='sigmoid') )   #hidden layer\n",
        "model.add( Dense(5, activation='softmax') )   #output layer, activation must be softmax\n",
        "\n",
        "model.compile(optimizer='sgd',\n",
        "              loss='categorical_crossentropy',\n",
        "              metrics=['accuracy'])\n",
        "\n",
        "# plot_model(model, show_shapes=True, show_dtype=True, show_layer_names=True)\n",
        "# print(y_test.shape)\n",
        "model.fit(X_train, y_train, epochs=25, verbose=1)\n",
        "\n",
        "#test accuracy using reference colab file\n",
        "y_pred = model.predict(X_test)\n",
        "y_predicted = np.argmax(y_pred, axis=1)\n",
        "y_actual = np.argmax(y_test, axis=1)\n",
        "acc_testing = np.mean(y_actual == y_predicted)*100\n",
        "print(\"Testing accuracy (%) =\", acc_testing)"
      ]
    },
    {
      "cell_type": "code",
      "execution_count": 15,
      "metadata": {
        "colab": {
          "base_uri": "https://localhost:8080/"
        },
        "id": "m5mRPda8Zzue",
        "outputId": "bb03a764-e3c0-4bde-94f0-d2867b8f8539"
      },
      "outputs": [
        {
          "output_type": "stream",
          "name": "stdout",
          "text": [
            "[[20 17 13  0  0]\n",
            " [ 8 35  4  1  2]\n",
            " [13 11 26  0  0]\n",
            " [13 18 14  1  4]\n",
            " [18 19  3  0 10]]\n"
          ]
        }
      ],
      "source": [
        "#Verify the confusion matrix\n",
        "CNF = confusion_matrix(y_actual, y_predicted)\n",
        "print(CNF)"
      ]
    },
    {
      "cell_type": "code",
      "execution_count": 16,
      "metadata": {
        "colab": {
          "base_uri": "https://localhost:8080/"
        },
        "id": "zNyR4maSZfeO",
        "outputId": "e544a36a-fcb3-4b27-9594-87f4b28b9f9c"
      },
      "outputs": [
        {
          "output_type": "stream",
          "name": "stdout",
          "text": [
            "Sensitivity of fence : 0.4\n",
            "Specificity of fence : 0.74\n",
            "PPV of fence : 0.2777777777777778\n",
            "NPV of fence : 0.8314606741573034\n",
            "F1 Score of fence : 0.3278688524590164\n",
            "\n",
            "Sensitivity of pill-bottle : 0.7\n",
            "Specificity of pill-bottle : 0.675\n",
            "PPV of pill-bottle : 0.35\n",
            "NPV of pill-bottle : 0.9\n",
            "F1 Score of pill-bottle : 0.4666666666666667\n",
            "\n",
            "Sensitivity of projectile : 0.52\n",
            "Specificity of projectile : 0.83\n",
            "PPV of projectile : 0.43333333333333335\n",
            "NPV of projectile : 0.8736842105263158\n",
            "F1 Score of projectile : 0.4727272727272728\n",
            "\n",
            "Sensitivity of reel : 0.02\n",
            "Specificity of reel : 0.995\n",
            "PPV of reel : 0.5\n",
            "NPV of reel : 0.8024193548387096\n",
            "F1 Score of reel : 0.038461538461538464\n",
            "\n",
            "Sensitivity of snail : 0.2\n",
            "Specificity of snail : 0.97\n",
            "PPV of snail : 0.625\n",
            "NPV of snail : 0.8290598290598291\n",
            "F1 Score of snail : 0.30303030303030304\n",
            "\n"
          ]
        }
      ],
      "source": [
        "FP = CNF.sum(axis=0) - np.diag(CNF)\n",
        "FN = CNF.sum(axis=1) - np.diag(CNF)\n",
        "TP = np.diag(CNF)\n",
        "TN = CNF.sum() - FP - FN - TP \n",
        "\n",
        "TPR = TP/(TP+FN)\n",
        "TNR = TN/(TN+FP) \n",
        "PPV = TP/(TP+FP)\n",
        "NPV = TN/(TN+FN)\n",
        "F1 = 2*((PPV)*(TPR)/(PPV + TPR)) \n",
        "\n",
        "for i in range(5):\n",
        "  dataset_name = \"\"\n",
        "  if i == 0:\n",
        "    dataset_name = \"fence\"\n",
        "  elif i == 1:\n",
        "    dataset_name = \"pill-bottle\"\n",
        "  elif i == 2:\n",
        "    dataset_name = \"projectile\"\n",
        "  elif i == 3:\n",
        "    dataset_name = \"reel\"\n",
        "  elif i == 4:\n",
        "    dataset_name = \"snail\"\n",
        "\n",
        "  print(\"Sensitivity of\",dataset_name,\":\",TPR[i])\n",
        "  print(\"Specificity of\",dataset_name,\":\",TNR[i])\n",
        "  print(\"PPV of\",dataset_name,\":\",PPV[i])\n",
        "  print(\"NPV of\",dataset_name,\":\",NPV[i])\n",
        "  print(\"F1 Score of\",dataset_name,\":\",F1[i])\n",
        "  print(\"\")"
      ]
    },
    {
      "cell_type": "code",
      "execution_count": 17,
      "metadata": {
        "colab": {
          "base_uri": "https://localhost:8080/"
        },
        "id": "l1I0d_ZJXag-",
        "outputId": "8a9a6845-2f9a-4be9-ed7b-def45e506991"
      },
      "outputs": [
        {
          "output_type": "stream",
          "name": "stdout",
          "text": [
            "Epoch 1/25\n",
            "79/79 [==============================] - 2s 27ms/step - loss: 1.6094 - accuracy: 0.2160\n",
            "Epoch 2/25\n",
            "79/79 [==============================] - 2s 26ms/step - loss: 1.5836 - accuracy: 0.2632\n",
            "Epoch 3/25\n",
            "79/79 [==============================] - 2s 27ms/step - loss: 1.5626 - accuracy: 0.2924\n",
            "Epoch 4/25\n",
            "79/79 [==============================] - 3s 36ms/step - loss: 1.5502 - accuracy: 0.3152\n",
            "Epoch 5/25\n",
            "79/79 [==============================] - 2s 26ms/step - loss: 1.5368 - accuracy: 0.3304\n",
            "Epoch 6/25\n",
            "79/79 [==============================] - 2s 25ms/step - loss: 1.5215 - accuracy: 0.3436\n",
            "Epoch 7/25\n",
            "79/79 [==============================] - 2s 26ms/step - loss: 1.5085 - accuracy: 0.3568\n",
            "Epoch 8/25\n",
            "79/79 [==============================] - 2s 26ms/step - loss: 1.4945 - accuracy: 0.3760\n",
            "Epoch 9/25\n",
            "79/79 [==============================] - 2s 25ms/step - loss: 1.4842 - accuracy: 0.3856\n",
            "Epoch 10/25\n",
            "79/79 [==============================] - 2s 24ms/step - loss: 1.4727 - accuracy: 0.3896\n",
            "Epoch 11/25\n",
            "79/79 [==============================] - 2s 25ms/step - loss: 1.4607 - accuracy: 0.3928\n",
            "Epoch 12/25\n",
            "79/79 [==============================] - 2s 25ms/step - loss: 1.4541 - accuracy: 0.3924\n",
            "Epoch 13/25\n",
            "79/79 [==============================] - 2s 25ms/step - loss: 1.4455 - accuracy: 0.4136\n",
            "Epoch 14/25\n",
            "79/79 [==============================] - 2s 25ms/step - loss: 1.4339 - accuracy: 0.4108\n",
            "Epoch 15/25\n",
            "79/79 [==============================] - 2s 29ms/step - loss: 1.4255 - accuracy: 0.4260\n",
            "Epoch 16/25\n",
            "79/79 [==============================] - 3s 40ms/step - loss: 1.4193 - accuracy: 0.4192\n",
            "Epoch 17/25\n",
            "79/79 [==============================] - 3s 35ms/step - loss: 1.4129 - accuracy: 0.4268\n",
            "Epoch 18/25\n",
            "79/79 [==============================] - 2s 29ms/step - loss: 1.4092 - accuracy: 0.4212\n",
            "Epoch 19/25\n",
            "79/79 [==============================] - 2s 30ms/step - loss: 1.3997 - accuracy: 0.4308\n",
            "Epoch 20/25\n",
            "79/79 [==============================] - 2s 28ms/step - loss: 1.3938 - accuracy: 0.4440\n",
            "Epoch 21/25\n",
            "79/79 [==============================] - 2s 31ms/step - loss: 1.3855 - accuracy: 0.4412\n",
            "Epoch 22/25\n",
            "79/79 [==============================] - 2s 29ms/step - loss: 1.3815 - accuracy: 0.4440\n",
            "Epoch 23/25\n",
            "79/79 [==============================] - 2s 27ms/step - loss: 1.3761 - accuracy: 0.4428\n",
            "Epoch 24/25\n",
            "79/79 [==============================] - 2s 25ms/step - loss: 1.3695 - accuracy: 0.4572\n",
            "Epoch 25/25\n",
            "79/79 [==============================] - 2s 25ms/step - loss: 1.3684 - accuracy: 0.4628\n",
            "8/8 [==============================] - 0s 14ms/step\n",
            "Testing accuracy (%) = 30.0\n"
          ]
        }
      ],
      "source": [
        "# Question-3\n",
        "# Method for unbalanced datasets using oversampling (SMOTE)\n",
        "# Try Image Augmentation\n",
        "from imblearn.over_sampling import SMOTE\n",
        "\n",
        "smote = SMOTE()\n",
        "\n",
        "X_train_oversampled, y_train_oversampled = smote.fit_resample(X_train, y_train)\n",
        "\n",
        "model = Sequential()\n",
        "model.add( Input(shape = (12288,)) )         #input layer\n",
        "model.add( Dense(500, activation='sigmoid') ) #hidden layer\n",
        "model.add( Dense(250, activation='sigmoid') )  #hidden layer\n",
        "model.add( Dense(5, activation='softmax') )  #output layer, activation must be softmax\n",
        "\n",
        "model.compile(optimizer='sgd',\n",
        "              loss='categorical_crossentropy',\n",
        "              metrics=['accuracy'])\n",
        "\n",
        "# plot_model(model, show_shapes=True, show_dtype=True, show_layer_names=True)\n",
        "model.fit(X_train_oversampled, y_train_oversampled, epochs=25, verbose=1)\n",
        "\n",
        "# print(X_train_oversampled.shape)\n",
        "# print(y_train_oversampled.shape)\n",
        "\n",
        "#test accuracy using reference colab file\n",
        "y_pred = model.predict(X_test)\n",
        "y_predicted = np.argmax(y_pred, axis=1)\n",
        "y_actual = np.argmax(y_test, axis=1)\n",
        "acc_testing = np.mean(y_actual == y_predicted)*100\n",
        "print(\"Testing accuracy (%) =\", acc_testing)"
      ]
    },
    {
      "cell_type": "code",
      "source": [
        "c = 0\n",
        "for i in range(len(np.argmax(y_train_oversampled, axis=1))):\n",
        "  if np.argmax(y_train_oversampled, axis=1)[i] == 4:\n",
        "    c += 1\n",
        "print(c)\n"
      ],
      "metadata": {
        "colab": {
          "base_uri": "https://localhost:8080/"
        },
        "id": "bZjaRBUbQEjw",
        "outputId": "60d1df5e-4348-4bd3-ce40-38be9cedd23f"
      },
      "execution_count": 18,
      "outputs": [
        {
          "output_type": "stream",
          "name": "stdout",
          "text": [
            "500\n"
          ]
        }
      ]
    },
    {
      "cell_type": "code",
      "source": [
        "print(X_train_oversampled.shape)\n",
        "print(y_train_oversampled.shape)\n",
        "print(X_test.shape)\n",
        "print(y_test.shape)"
      ],
      "metadata": {
        "colab": {
          "base_uri": "https://localhost:8080/"
        },
        "id": "Ird3QthEPTmE",
        "outputId": "0a33310e-9527-42a7-c0c5-0945aa56bfd9"
      },
      "execution_count": 19,
      "outputs": [
        {
          "output_type": "stream",
          "name": "stdout",
          "text": [
            "(2500, 12288)\n",
            "(2500, 5)\n",
            "(250, 12288)\n",
            "(250, 5)\n"
          ]
        }
      ]
    },
    {
      "cell_type": "code",
      "execution_count": 20,
      "metadata": {
        "colab": {
          "base_uri": "https://localhost:8080/"
        },
        "id": "GEZaT9mphx5U",
        "outputId": "9fbacf2c-e39e-4f2b-c3cb-922aeb89629d"
      },
      "outputs": [
        {
          "output_type": "stream",
          "name": "stdout",
          "text": [
            "[[ 6  2  8  0 34]\n",
            " [ 2  6  1  0 41]\n",
            " [ 0  2 17  1 30]\n",
            " [ 1  0  6  0 43]\n",
            " [ 4  0  0  0 46]]\n"
          ]
        }
      ],
      "source": [
        "#Verify the confusion matrix\n",
        "CNF = confusion_matrix(y_actual, y_predicted)\n",
        "print(CNF)"
      ]
    },
    {
      "cell_type": "code",
      "execution_count": 21,
      "metadata": {
        "colab": {
          "base_uri": "https://localhost:8080/"
        },
        "id": "T2Mb4Rzkh35T",
        "outputId": "ccac600b-ddb2-409d-af77-28005f71d5aa"
      },
      "outputs": [
        {
          "output_type": "stream",
          "name": "stdout",
          "text": [
            "Sensitivity of fence : 0.12\n",
            "Specificity of fence : 0.965\n",
            "PPV of fence : 0.46153846153846156\n",
            "NPV of fence : 0.8143459915611815\n",
            "F1 Score of fence : 0.19047619047619047\n",
            "\n",
            "Sensitivity of pill-bottle : 0.12\n",
            "Specificity of pill-bottle : 0.98\n",
            "PPV of pill-bottle : 0.6\n",
            "NPV of pill-bottle : 0.8166666666666667\n",
            "F1 Score of pill-bottle : 0.19999999999999998\n",
            "\n",
            "Sensitivity of projectile : 0.34\n",
            "Specificity of projectile : 0.925\n",
            "PPV of projectile : 0.53125\n",
            "NPV of projectile : 0.8486238532110092\n",
            "F1 Score of projectile : 0.4146341463414634\n",
            "\n",
            "Sensitivity of reel : 0.0\n",
            "Specificity of reel : 0.995\n",
            "PPV of reel : 0.0\n",
            "NPV of reel : 0.7991967871485943\n",
            "F1 Score of reel : nan\n",
            "\n",
            "Sensitivity of snail : 0.92\n",
            "Specificity of snail : 0.26\n",
            "PPV of snail : 0.23711340206185566\n",
            "NPV of snail : 0.9285714285714286\n",
            "F1 Score of snail : 0.3770491803278689\n",
            "\n"
          ]
        },
        {
          "output_type": "stream",
          "name": "stderr",
          "text": [
            "<ipython-input-21-cffe17b5b6b2>:11: RuntimeWarning: invalid value encountered in true_divide\n",
            "  F1 = 2*((PPV)*(TPR)/(PPV + TPR))\n"
          ]
        }
      ],
      "source": [
        "#fence output of performance metrics\n",
        "FP = CNF.sum(axis=0) - np.diag(CNF)\n",
        "FN = CNF.sum(axis=1) - np.diag(CNF)\n",
        "TP = np.diag(CNF)\n",
        "TN = CNF.sum() - FP - FN - TP \n",
        "\n",
        "TPR = TP/(TP+FN)\n",
        "TNR = TN/(TN+FP) \n",
        "PPV = TP/(TP+FP)\n",
        "NPV = TN/(TN+FN)\n",
        "F1 = 2*((PPV)*(TPR)/(PPV + TPR)) \n",
        "\n",
        "for i in range(5):\n",
        "  dataset_name = \"\"\n",
        "  if i == 0:\n",
        "    dataset_name = \"fence\"\n",
        "  elif i == 1:\n",
        "    dataset_name = \"pill-bottle\"\n",
        "  elif i == 2:\n",
        "    dataset_name = \"projectile\"\n",
        "  elif i == 3:\n",
        "    dataset_name = \"reel\"\n",
        "  elif i == 4:\n",
        "    dataset_name = \"snail\"\n",
        "\n",
        "  print(\"Sensitivity of\",dataset_name,\":\",TPR[i])\n",
        "  print(\"Specificity of\",dataset_name,\":\",TNR[i])\n",
        "  print(\"PPV of\",dataset_name,\":\",PPV[i])\n",
        "  print(\"NPV of\",dataset_name,\":\",NPV[i])\n",
        "  print(\"F1 Score of\",dataset_name,\":\",F1[i])\n",
        "  print(\"\")"
      ]
    },
    {
      "cell_type": "code",
      "execution_count": 22,
      "metadata": {
        "id": "-bq4QqGdNzZz"
      },
      "outputs": [],
      "source": [
        "#Question 5\n",
        "X_train1, X_val, y_train1, y_val = train_test_split(X_train_oversampled, y_train_oversampled, stratify = y_train_oversampled ,test_size=0.20, random_state=100)\n",
        "#what does this parameter do? (stratify = y)"
      ]
    },
    {
      "cell_type": "code",
      "source": [
        "#hyperparameter tuning\n",
        "# Flatten the inputs\n",
        "X_train1 = X_train1.reshape(X_train1.shape[0], -1)\n",
        "X_val = X_val.reshape(X_val.shape[0], -1)\n",
        "\n",
        "# Conversion to one-hot encoding is not needed \n",
        "# Shape of y_train is already (2500,5)\n",
        "\n",
        "# number_of_classes = 5\n",
        "# y_train1 = to_categorical(y_train1, num_classes = number_of_classes) \n",
        "# y_val = to_categorical(y_val, num_classes = number_of_classes) \n",
        "\n",
        "print(\"shape of X =\", X_train1.shape)\n",
        "print(\"shape of y =\", y_train1.shape)"
      ],
      "metadata": {
        "colab": {
          "base_uri": "https://localhost:8080/"
        },
        "id": "AKCeJLlma210",
        "outputId": "ee4b3fec-e682-4f91-a115-d8bafdd96c0e"
      },
      "execution_count": 23,
      "outputs": [
        {
          "output_type": "stream",
          "name": "stdout",
          "text": [
            "shape of X = (2000, 12288)\n",
            "shape of y = (2000, 5)\n"
          ]
        }
      ]
    },
    {
      "cell_type": "code",
      "execution_count": 24,
      "metadata": {
        "id": "GBTao8hbQJfS"
      },
      "outputs": [],
      "source": [
        "def build_model(hp):\n",
        "    model = Sequential()\n",
        "    model.add( Input(shape = (12288,)) )\n",
        "    number_of_layers = hp.Int(\"num_layers\", 2, 5)\n",
        "    for i in range(number_of_layers):\n",
        "      units = hp.Int(f\"units_{i}\", min_value=16, max_value=128, step=16)\n",
        "      activation = hp.Choice(\"activation\", [\"relu\", \"sigmoid\"])  \n",
        "      model.add( Dense(units, activation=activation) ) #hidden layer\n",
        "    \n",
        "    model.add( Dense(5, activation='softmax') ) #output layer, activation must be softmax\n",
        "   \n",
        "    model.compile(\n",
        "        optimizer=\"adam\", loss=\"categorical_crossentropy\", metrics=[\"accuracy\"],\n",
        "    )\n",
        "    return model"
      ]
    },
    {
      "cell_type": "code",
      "execution_count": 25,
      "metadata": {
        "id": "2avzmNdMuk78"
      },
      "outputs": [],
      "source": [
        "model = build_model(keras_tuner.HyperParameters())"
      ]
    },
    {
      "cell_type": "code",
      "execution_count": 26,
      "metadata": {
        "id": "DScuRPAhtWyz"
      },
      "outputs": [],
      "source": [
        "from keras_tuner import BayesianOptimization\n",
        "\n",
        "tuner = keras_tuner.BayesianOptimization(\n",
        "    hypermodel=build_model,\n",
        "    objective='val_accuracy',\n",
        "    max_trials=4,\n",
        "    num_initial_points=2,\n",
        "    alpha=0.0001,\n",
        "    beta=2.6,\n",
        "    seed=None,\n",
        "    hyperparameters=None,\n",
        "    tune_new_entries=True,\n",
        "    allow_new_entries=True,\n",
        "    \n",
        ")"
      ]
    },
    {
      "cell_type": "code",
      "execution_count": 27,
      "metadata": {
        "id": "GO26BCZxwvYT",
        "colab": {
          "base_uri": "https://localhost:8080/"
        },
        "outputId": "56e62bbd-8187-43fe-d7d6-4b8f8f18323e"
      },
      "outputs": [
        {
          "output_type": "stream",
          "name": "stdout",
          "text": [
            "Trial 4 Complete [00h 01m 23s]\n",
            "val_accuracy: 0.38199999928474426\n",
            "\n",
            "Best val_accuracy So Far: 0.9980000257492065\n",
            "Total elapsed time: 00h 07m 19s\n"
          ]
        }
      ],
      "source": [
        "tuner.search(X_train_oversampled, y_train_oversampled, epochs=100, validation_data=(X_val, y_val))\n",
        "best_model = tuner.get_best_models()[0]"
      ]
    },
    {
      "cell_type": "code",
      "execution_count": 28,
      "metadata": {
        "id": "OV8gui9quhdr",
        "colab": {
          "base_uri": "https://localhost:8080/"
        },
        "outputId": "50555424-894e-4b1a-bdbf-bcd53cec396b"
      },
      "outputs": [
        {
          "output_type": "stream",
          "name": "stdout",
          "text": [
            "Results summary\n",
            "Results in ./untitled_project\n",
            "Showing 10 best trials\n",
            "<keras_tuner.engine.objective.Objective object at 0x7f7701556100>\n",
            "Trial summary\n",
            "Hyperparameters:\n",
            "num_layers: 2\n",
            "units_0: 112\n",
            "activation: relu\n",
            "units_1: 112\n",
            "units_2: 32\n",
            "units_3: 32\n",
            "units_4: 32\n",
            "Score: 0.9980000257492065\n",
            "Trial summary\n",
            "Hyperparameters:\n",
            "num_layers: 2\n",
            "units_0: 128\n",
            "activation: relu\n",
            "units_1: 128\n",
            "units_2: 112\n",
            "units_3: 112\n",
            "units_4: 112\n",
            "Score: 0.9919999837875366\n",
            "Trial summary\n",
            "Hyperparameters:\n",
            "num_layers: 5\n",
            "units_0: 96\n",
            "activation: relu\n",
            "units_1: 48\n",
            "units_2: 16\n",
            "units_3: 16\n",
            "units_4: 16\n",
            "Score: 0.8700000047683716\n",
            "Trial summary\n",
            "Hyperparameters:\n",
            "num_layers: 2\n",
            "units_0: 16\n",
            "activation: sigmoid\n",
            "units_1: 128\n",
            "units_2: 16\n",
            "units_3: 128\n",
            "units_4: 128\n",
            "Score: 0.38199999928474426\n"
          ]
        }
      ],
      "source": [
        "tuner.results_summary()\n"
      ]
    },
    {
      "cell_type": "code",
      "source": [
        "#why is it 20% \n",
        "model.fit(X_train1, y_train1, epochs=100, verbose=1)\n",
        "\n",
        "#test accuracy using reference colab file\n",
        "y_pred = model.predict(X_test)\n",
        "y_predicted = np.argmax(y_pred, axis=1)\n",
        "y_actual = np.argmax(y_test, axis=1)\n",
        "acc_testing = np.mean(y_actual == y_predicted)*100\n",
        "print(\"Testing accuracy (%) =\", acc_testing)"
      ],
      "metadata": {
        "id": "N6jbN5NqTqUR",
        "colab": {
          "base_uri": "https://localhost:8080/"
        },
        "outputId": "78685ac9-7d55-4fac-c2b7-53cd662849d1"
      },
      "execution_count": 29,
      "outputs": [
        {
          "output_type": "stream",
          "name": "stdout",
          "text": [
            "Epoch 1/100\n",
            "63/63 [==============================] - 1s 5ms/step - loss: 1.7217 - accuracy: 0.1975\n",
            "Epoch 2/100\n",
            "63/63 [==============================] - 0s 6ms/step - loss: 1.6096 - accuracy: 0.1825\n",
            "Epoch 3/100\n",
            "63/63 [==============================] - 0s 5ms/step - loss: 1.6171 - accuracy: 0.1885\n",
            "Epoch 4/100\n",
            "63/63 [==============================] - 0s 5ms/step - loss: 1.6095 - accuracy: 0.1925\n",
            "Epoch 5/100\n",
            "63/63 [==============================] - 0s 5ms/step - loss: 1.6095 - accuracy: 0.1895\n",
            "Epoch 6/100\n",
            "63/63 [==============================] - 0s 5ms/step - loss: 1.6095 - accuracy: 0.2000\n",
            "Epoch 7/100\n",
            "63/63 [==============================] - 0s 6ms/step - loss: 1.6095 - accuracy: 0.2000\n",
            "Epoch 8/100\n",
            "63/63 [==============================] - 0s 6ms/step - loss: 1.6094 - accuracy: 0.2000\n",
            "Epoch 9/100\n",
            "63/63 [==============================] - 0s 5ms/step - loss: 1.6094 - accuracy: 0.1830\n",
            "Epoch 10/100\n",
            "63/63 [==============================] - 0s 6ms/step - loss: 1.6094 - accuracy: 0.1930\n",
            "Epoch 11/100\n",
            "63/63 [==============================] - 0s 5ms/step - loss: 1.6094 - accuracy: 0.1890\n",
            "Epoch 12/100\n",
            "63/63 [==============================] - 0s 5ms/step - loss: 1.6093 - accuracy: 0.1890\n",
            "Epoch 13/100\n",
            "63/63 [==============================] - 0s 5ms/step - loss: 1.6093 - accuracy: 0.1810\n",
            "Epoch 14/100\n",
            "63/63 [==============================] - 0s 5ms/step - loss: 1.6093 - accuracy: 0.1865\n",
            "Epoch 15/100\n",
            "63/63 [==============================] - 0s 5ms/step - loss: 1.6093 - accuracy: 0.1945\n",
            "Epoch 16/100\n",
            "63/63 [==============================] - 0s 5ms/step - loss: 1.6093 - accuracy: 0.1875\n",
            "Epoch 17/100\n",
            "63/63 [==============================] - 0s 5ms/step - loss: 1.6094 - accuracy: 0.1835\n",
            "Epoch 18/100\n",
            "63/63 [==============================] - 0s 5ms/step - loss: 1.6092 - accuracy: 0.2005\n",
            "Epoch 19/100\n",
            "63/63 [==============================] - 0s 5ms/step - loss: 1.6091 - accuracy: 0.1950\n",
            "Epoch 20/100\n",
            "63/63 [==============================] - 0s 5ms/step - loss: 1.6091 - accuracy: 0.1825\n",
            "Epoch 21/100\n",
            "63/63 [==============================] - 0s 6ms/step - loss: 1.6091 - accuracy: 0.1925\n",
            "Epoch 22/100\n",
            "63/63 [==============================] - 0s 5ms/step - loss: 1.6091 - accuracy: 0.1775\n",
            "Epoch 23/100\n",
            "63/63 [==============================] - 0s 5ms/step - loss: 1.6092 - accuracy: 0.1820\n",
            "Epoch 24/100\n",
            "63/63 [==============================] - 0s 5ms/step - loss: 1.6090 - accuracy: 0.1980\n",
            "Epoch 25/100\n",
            "63/63 [==============================] - 0s 6ms/step - loss: 1.6090 - accuracy: 0.1965\n",
            "Epoch 26/100\n",
            "63/63 [==============================] - 0s 5ms/step - loss: 1.6091 - accuracy: 0.1900\n",
            "Epoch 27/100\n",
            "63/63 [==============================] - 0s 5ms/step - loss: 1.6089 - accuracy: 0.1900\n",
            "Epoch 28/100\n",
            "63/63 [==============================] - 0s 5ms/step - loss: 1.6090 - accuracy: 0.1935\n",
            "Epoch 29/100\n",
            "63/63 [==============================] - 0s 5ms/step - loss: 1.6084 - accuracy: 0.1885\n",
            "Epoch 30/100\n",
            "63/63 [==============================] - 0s 5ms/step - loss: 1.6082 - accuracy: 0.1820\n",
            "Epoch 31/100\n",
            "63/63 [==============================] - 0s 6ms/step - loss: 1.6082 - accuracy: 0.1790\n",
            "Epoch 32/100\n",
            "63/63 [==============================] - 0s 5ms/step - loss: 1.6081 - accuracy: 0.2010\n",
            "Epoch 33/100\n",
            "63/63 [==============================] - 0s 5ms/step - loss: 1.6080 - accuracy: 0.1880\n",
            "Epoch 34/100\n",
            "63/63 [==============================] - 0s 6ms/step - loss: 1.6080 - accuracy: 0.1930\n",
            "Epoch 35/100\n",
            "63/63 [==============================] - 0s 6ms/step - loss: 1.6080 - accuracy: 0.1955\n",
            "Epoch 36/100\n",
            "63/63 [==============================] - 0s 6ms/step - loss: 1.6080 - accuracy: 0.1985\n",
            "Epoch 37/100\n",
            "63/63 [==============================] - 0s 6ms/step - loss: 1.6080 - accuracy: 0.1880\n",
            "Epoch 38/100\n",
            "63/63 [==============================] - 0s 5ms/step - loss: 1.6082 - accuracy: 0.1875\n",
            "Epoch 39/100\n",
            "63/63 [==============================] - 0s 5ms/step - loss: 1.6080 - accuracy: 0.2010\n",
            "Epoch 40/100\n",
            "63/63 [==============================] - 0s 6ms/step - loss: 1.6080 - accuracy: 0.1960\n",
            "Epoch 41/100\n",
            "63/63 [==============================] - 0s 6ms/step - loss: 1.6080 - accuracy: 0.1825\n",
            "Epoch 42/100\n",
            "63/63 [==============================] - 0s 6ms/step - loss: 1.6080 - accuracy: 0.1870\n",
            "Epoch 43/100\n",
            "63/63 [==============================] - 0s 6ms/step - loss: 1.6080 - accuracy: 0.1955\n",
            "Epoch 44/100\n",
            "63/63 [==============================] - 0s 6ms/step - loss: 1.6080 - accuracy: 0.1950\n",
            "Epoch 45/100\n",
            "63/63 [==============================] - 0s 6ms/step - loss: 1.6080 - accuracy: 0.1885\n",
            "Epoch 46/100\n",
            "63/63 [==============================] - 0s 6ms/step - loss: 1.6080 - accuracy: 0.1830\n",
            "Epoch 47/100\n",
            "63/63 [==============================] - 0s 6ms/step - loss: 1.6086 - accuracy: 0.1920\n",
            "Epoch 48/100\n",
            "63/63 [==============================] - 0s 6ms/step - loss: 1.6048 - accuracy: 0.2020\n",
            "Epoch 49/100\n",
            "63/63 [==============================] - 0s 6ms/step - loss: 1.6028 - accuracy: 0.2065\n",
            "Epoch 50/100\n",
            "63/63 [==============================] - 0s 5ms/step - loss: 1.6068 - accuracy: 0.1985\n",
            "Epoch 51/100\n",
            "63/63 [==============================] - 0s 6ms/step - loss: 1.6053 - accuracy: 0.1980\n",
            "Epoch 52/100\n",
            "63/63 [==============================] - 0s 6ms/step - loss: 1.6020 - accuracy: 0.2010\n",
            "Epoch 53/100\n",
            "63/63 [==============================] - 0s 7ms/step - loss: 1.5949 - accuracy: 0.2205\n",
            "Epoch 54/100\n",
            "63/63 [==============================] - 0s 7ms/step - loss: 1.6056 - accuracy: 0.2030\n",
            "Epoch 55/100\n",
            "63/63 [==============================] - 1s 8ms/step - loss: 1.6001 - accuracy: 0.2050\n",
            "Epoch 56/100\n",
            "63/63 [==============================] - 0s 6ms/step - loss: 1.5845 - accuracy: 0.2190\n",
            "Epoch 57/100\n",
            "63/63 [==============================] - 0s 6ms/step - loss: 1.5818 - accuracy: 0.2160\n",
            "Epoch 58/100\n",
            "63/63 [==============================] - 0s 6ms/step - loss: 1.5676 - accuracy: 0.2350\n",
            "Epoch 59/100\n",
            "63/63 [==============================] - 0s 5ms/step - loss: 1.5606 - accuracy: 0.2375\n",
            "Epoch 60/100\n",
            "63/63 [==============================] - 0s 5ms/step - loss: 1.5598 - accuracy: 0.2395\n",
            "Epoch 61/100\n",
            "63/63 [==============================] - 0s 6ms/step - loss: 1.5520 - accuracy: 0.2405\n",
            "Epoch 62/100\n",
            "63/63 [==============================] - 0s 5ms/step - loss: 1.5425 - accuracy: 0.2590\n",
            "Epoch 63/100\n",
            "63/63 [==============================] - 0s 6ms/step - loss: 1.5517 - accuracy: 0.2570\n",
            "Epoch 64/100\n",
            "63/63 [==============================] - 0s 6ms/step - loss: 1.5269 - accuracy: 0.2790\n",
            "Epoch 65/100\n",
            "63/63 [==============================] - 0s 6ms/step - loss: 1.5092 - accuracy: 0.2935\n",
            "Epoch 66/100\n",
            "63/63 [==============================] - 0s 5ms/step - loss: 1.5038 - accuracy: 0.2940\n",
            "Epoch 67/100\n",
            "63/63 [==============================] - 0s 6ms/step - loss: 1.5109 - accuracy: 0.2945\n",
            "Epoch 68/100\n",
            "63/63 [==============================] - 0s 5ms/step - loss: 1.4989 - accuracy: 0.2960\n",
            "Epoch 69/100\n",
            "63/63 [==============================] - 0s 6ms/step - loss: 1.4975 - accuracy: 0.2945\n",
            "Epoch 70/100\n",
            "63/63 [==============================] - 0s 6ms/step - loss: 1.4868 - accuracy: 0.3025\n",
            "Epoch 71/100\n",
            "63/63 [==============================] - 0s 6ms/step - loss: 1.4896 - accuracy: 0.3070\n",
            "Epoch 72/100\n",
            "63/63 [==============================] - 0s 6ms/step - loss: 1.4804 - accuracy: 0.3135\n",
            "Epoch 73/100\n",
            "63/63 [==============================] - 0s 5ms/step - loss: 1.4755 - accuracy: 0.3125\n",
            "Epoch 74/100\n",
            "63/63 [==============================] - 0s 5ms/step - loss: 1.4716 - accuracy: 0.3175\n",
            "Epoch 75/100\n",
            "63/63 [==============================] - 0s 6ms/step - loss: 1.4607 - accuracy: 0.3155\n",
            "Epoch 76/100\n",
            "63/63 [==============================] - 0s 6ms/step - loss: 1.4594 - accuracy: 0.3190\n",
            "Epoch 77/100\n",
            "63/63 [==============================] - 0s 5ms/step - loss: 1.4563 - accuracy: 0.3250\n",
            "Epoch 78/100\n",
            "63/63 [==============================] - 0s 6ms/step - loss: 1.4402 - accuracy: 0.3360\n",
            "Epoch 79/100\n",
            "63/63 [==============================] - 0s 6ms/step - loss: 1.4373 - accuracy: 0.3425\n",
            "Epoch 80/100\n",
            "63/63 [==============================] - 0s 5ms/step - loss: 1.4378 - accuracy: 0.3355\n",
            "Epoch 81/100\n",
            "63/63 [==============================] - 0s 6ms/step - loss: 1.4194 - accuracy: 0.3500\n",
            "Epoch 82/100\n",
            "63/63 [==============================] - 0s 6ms/step - loss: 1.4196 - accuracy: 0.3345\n",
            "Epoch 83/100\n",
            "63/63 [==============================] - 0s 6ms/step - loss: 1.4516 - accuracy: 0.3230\n",
            "Epoch 84/100\n",
            "63/63 [==============================] - 0s 6ms/step - loss: 1.4108 - accuracy: 0.3505\n",
            "Epoch 85/100\n",
            "63/63 [==============================] - 0s 5ms/step - loss: 1.4087 - accuracy: 0.3575\n",
            "Epoch 86/100\n",
            "63/63 [==============================] - 0s 6ms/step - loss: 1.3985 - accuracy: 0.3630\n",
            "Epoch 87/100\n",
            "63/63 [==============================] - 0s 6ms/step - loss: 1.4144 - accuracy: 0.3455\n",
            "Epoch 88/100\n",
            "63/63 [==============================] - 0s 5ms/step - loss: 1.3948 - accuracy: 0.3725\n",
            "Epoch 89/100\n",
            "63/63 [==============================] - 0s 6ms/step - loss: 1.3882 - accuracy: 0.3570\n",
            "Epoch 90/100\n",
            "63/63 [==============================] - 0s 6ms/step - loss: 1.3885 - accuracy: 0.3570\n",
            "Epoch 91/100\n",
            "63/63 [==============================] - 0s 6ms/step - loss: 1.3897 - accuracy: 0.3505\n",
            "Epoch 92/100\n",
            "63/63 [==============================] - 0s 7ms/step - loss: 1.3660 - accuracy: 0.3700\n",
            "Epoch 93/100\n",
            "63/63 [==============================] - 0s 6ms/step - loss: 1.3722 - accuracy: 0.3780\n",
            "Epoch 94/100\n",
            "63/63 [==============================] - 0s 6ms/step - loss: 1.3781 - accuracy: 0.3625\n",
            "Epoch 95/100\n",
            "63/63 [==============================] - 0s 6ms/step - loss: 1.3582 - accuracy: 0.3765\n",
            "Epoch 96/100\n",
            "63/63 [==============================] - 0s 5ms/step - loss: 1.3599 - accuracy: 0.3805\n",
            "Epoch 97/100\n",
            "63/63 [==============================] - 0s 6ms/step - loss: 1.3718 - accuracy: 0.3640\n",
            "Epoch 98/100\n",
            "63/63 [==============================] - 0s 5ms/step - loss: 1.3366 - accuracy: 0.3920\n",
            "Epoch 99/100\n",
            "63/63 [==============================] - 0s 6ms/step - loss: 1.3544 - accuracy: 0.3830\n",
            "Epoch 100/100\n",
            "63/63 [==============================] - 0s 5ms/step - loss: 1.3453 - accuracy: 0.3835\n",
            "8/8 [==============================] - 0s 3ms/step\n",
            "Testing accuracy (%) = 27.200000000000003\n"
          ]
        }
      ]
    },
    {
      "cell_type": "code",
      "source": [
        "CNF = confusion_matrix(y_actual, y_predicted)\n",
        "print(CNF)"
      ],
      "metadata": {
        "id": "W-qfuzKkTq7I",
        "colab": {
          "base_uri": "https://localhost:8080/"
        },
        "outputId": "ab2ba5d0-e0e6-406b-addb-b87c9e81757b"
      },
      "execution_count": 30,
      "outputs": [
        {
          "output_type": "stream",
          "name": "stdout",
          "text": [
            "[[ 7 12  0 23  8]\n",
            " [ 9 24  1 13  3]\n",
            " [ 7  0  0 40  3]\n",
            " [ 6 11  1 29  3]\n",
            " [11 14  0 17  8]]\n"
          ]
        }
      ]
    },
    {
      "cell_type": "code",
      "source": [
        "FP = CNF.sum(axis=0) - np.diag(CNF)\n",
        "FN = CNF.sum(axis=1) - np.diag(CNF)\n",
        "TP = np.diag(CNF)\n",
        "TN = CNF.sum() - FP - FN - TP \n",
        "\n",
        "TPR = TP/(TP+FN)\n",
        "TNR = TN/(TN+FP) \n",
        "PPV = TP/(TP+FP)\n",
        "NPV = TN/(TN+FN)\n",
        "F1 = 2*((PPV)*(TPR)/(PPV + TPR)) \n",
        "\n",
        "for i in range(5):\n",
        "  dataset_name = \"\"\n",
        "  if i == 0:\n",
        "    dataset_name = \"fence\"\n",
        "  elif i == 1:\n",
        "    dataset_name = \"pill-bottle\"\n",
        "  elif i == 2:\n",
        "    dataset_name = \"projectile\"\n",
        "  elif i == 3:\n",
        "    dataset_name = \"reel\"\n",
        "  elif i == 4:\n",
        "    dataset_name = \"snail\"\n",
        "\n",
        "  print(\"Sensitivity of\",dataset_name,\":\",TPR[i])\n",
        "  print(\"Specificity of\",dataset_name,\":\",TNR[i])\n",
        "  print(\"PPV of\",dataset_name,\":\",PPV[i])\n",
        "  print(\"NPV of\",dataset_name,\":\",NPV[i])\n",
        "  print(\"F1 Score of\",dataset_name,\":\",F1[i])\n",
        "  print(\"\")"
      ],
      "metadata": {
        "id": "pQZAnmn_T4kx",
        "colab": {
          "base_uri": "https://localhost:8080/"
        },
        "outputId": "80c4e18f-bc44-4bb2-c162-6ba6a2a64d7b"
      },
      "execution_count": 31,
      "outputs": [
        {
          "output_type": "stream",
          "name": "stdout",
          "text": [
            "Sensitivity of fence : 0.14\n",
            "Specificity of fence : 0.835\n",
            "PPV of fence : 0.175\n",
            "NPV of fence : 0.7952380952380952\n",
            "F1 Score of fence : 0.15555555555555556\n",
            "\n",
            "Sensitivity of pill-bottle : 0.48\n",
            "Specificity of pill-bottle : 0.815\n",
            "PPV of pill-bottle : 0.39344262295081966\n",
            "NPV of pill-bottle : 0.8624338624338624\n",
            "F1 Score of pill-bottle : 0.43243243243243246\n",
            "\n",
            "Sensitivity of projectile : 0.0\n",
            "Specificity of projectile : 0.99\n",
            "PPV of projectile : 0.0\n",
            "NPV of projectile : 0.7983870967741935\n",
            "F1 Score of projectile : nan\n",
            "\n",
            "Sensitivity of reel : 0.58\n",
            "Specificity of reel : 0.535\n",
            "PPV of reel : 0.23770491803278687\n",
            "NPV of reel : 0.8359375\n",
            "F1 Score of reel : 0.33720930232558133\n",
            "\n",
            "Sensitivity of snail : 0.16\n",
            "Specificity of snail : 0.915\n",
            "PPV of snail : 0.32\n",
            "NPV of snail : 0.8133333333333334\n",
            "F1 Score of snail : 0.21333333333333335\n",
            "\n"
          ]
        },
        {
          "output_type": "stream",
          "name": "stderr",
          "text": [
            "<ipython-input-31-e9f6f16e1da6>:10: RuntimeWarning: invalid value encountered in true_divide\n",
            "  F1 = 2*((PPV)*(TPR)/(PPV + TPR))\n"
          ]
        }
      ]
    }
  ],
  "metadata": {
    "colab": {
      "provenance": []
    },
    "kernelspec": {
      "display_name": "Python 3",
      "name": "python3"
    },
    "language_info": {
      "name": "python"
    }
  },
  "nbformat": 4,
  "nbformat_minor": 0
}
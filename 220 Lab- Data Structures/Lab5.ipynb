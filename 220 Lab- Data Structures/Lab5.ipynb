{
 "metadata": {
  "language_info": {
   "codemirror_mode": {
    "name": "ipython",
    "version": 3
   },
   "file_extension": ".py",
   "mimetype": "text/x-python",
   "name": "python",
   "nbconvert_exporter": "python",
   "pygments_lexer": "ipython3",
   "version": "3.7.6"
  },
  "orig_nbformat": 2,
  "kernelspec": {
   "name": "python376jvsc74a57bd0f5893b8d4a2d35c56a219132feb3c55205032a9cd0a77240b934e5ebe2aafe72",
   "display_name": "Python 3.7.6 64-bit ('base': conda)"
  }
 },
 "nbformat": 4,
 "nbformat_minor": 2,
 "cells": [
  {
   "cell_type": "code",
   "execution_count": 11,
   "metadata": {},
   "outputs": [
    {
     "output_type": "execute_result",
     "data": {
      "text/plain": [
       "120"
      ]
     },
     "metadata": {},
     "execution_count": 11
    }
   ],
   "source": [
    "def fact(n):\n",
    "    if n>=1:\n",
    "        return n * fact(n-1)\n",
    "    else:\n",
    "        return 1\n",
    "\n",
    "#========tester===========================\n",
    "fact(5)\n"
   ]
  },
  {
   "cell_type": "code",
   "execution_count": 7,
   "metadata": {},
   "outputs": [
    {
     "output_type": "execute_result",
     "data": {
      "text/plain": [
       "2"
      ]
     },
     "metadata": {},
     "execution_count": 7
    }
   ],
   "source": [
    "def fib(n):\n",
    "    if n==0 or n==1:\n",
    "        return 0\n",
    "    elif n==2:\n",
    "        return 1\n",
    "    else:\n",
    "        return fib(n-1) + fib(n-2)\n",
    "\n",
    "#========tester===========================\n",
    "fib(4)\n",
    "        "
   ]
  },
  {
   "cell_type": "code",
   "execution_count": 11,
   "metadata": {},
   "outputs": [
    {
     "output_type": "stream",
     "name": "stdout",
     "text": [
      "1\n2\n3\n4\n5\n"
     ]
    }
   ],
   "source": [
    "def array(n):\n",
    "    if len(n)!=0:\n",
    "        print(n[0])\n",
    "        return array(n[1:]) \n",
    "\n",
    "#========tester===========================\n",
    "n=[1,2,3,4,5]\n",
    "array(n)"
   ]
  },
  {
   "cell_type": "code",
   "execution_count": 35,
   "metadata": {
    "tags": []
   },
   "outputs": [
    {
     "output_type": "stream",
     "name": "stdout",
     "text": [
      "1010"
     ]
    }
   ],
   "source": [
    "temp=[]\n",
    "def convert(n):\n",
    "    global temp\n",
    "    temp[len(temp):]=[n%2]\n",
    "    if n<=1:\n",
    "        temp2=temp[::-1]\n",
    "        for i in temp2:\n",
    "            print(i,end='')\n",
    "    else:\n",
    "        return convert(n//2)\n",
    "    \n",
    "\n",
    "#========tester===========================\n",
    "convert(10)\n"
   ]
  },
  {
   "cell_type": "code",
   "execution_count": 6,
   "metadata": {},
   "outputs": [
    {
     "output_type": "execute_result",
     "data": {
      "text/plain": [
       "625"
      ]
     },
     "metadata": {},
     "execution_count": 6
    }
   ],
   "source": [
    "def power(m,n):\n",
    "    if n==0:\n",
    "        return 1\n",
    "    else:\n",
    "        return m * power(m,n-1)\n",
    "\n",
    "#========tester===========================\n",
    "power(5,4)\n"
   ]
  },
  {
   "cell_type": "code",
   "execution_count": 7,
   "metadata": {},
   "outputs": [
    {
     "output_type": "execute_result",
     "data": {
      "text/plain": [
       "15"
      ]
     },
     "metadata": {},
     "execution_count": 7
    }
   ],
   "source": [
    "class Node:\n",
    "    def __init__(self, value, next):\n",
    "        self.value=value\n",
    "        self.next=next\n",
    "\n",
    "class LinkedList:\n",
    "    def __init__(self,a):\n",
    "        Nodehead=Node(a[0],None)\n",
    "        self.head=Nodehead\n",
    "        tail=Nodehead\n",
    "        for i in range(1,len(a)):\n",
    "            newNode=Node(a[i],None)\n",
    "            tail.next=newNode\n",
    "            tail=tail.next\n",
    "\n",
    "def add(head):\n",
    "    n=head\n",
    "    if n is None:\n",
    "        return 0\n",
    "    return n.value + add(head.next)\n",
    "\n",
    "#========tester===========================\n",
    "lst=[1,2,3,4,5]\n",
    "llist=LinkedList(lst)\n",
    "add(llist.head)\n",
    "\n"
   ]
  },
  {
   "cell_type": "code",
   "execution_count": 14,
   "metadata": {},
   "outputs": [
    {
     "output_type": "execute_result",
     "data": {
      "text/plain": [
       "[5, 4, 3, 2, 1]"
      ]
     },
     "metadata": {},
     "execution_count": 14
    }
   ],
   "source": [
    "class Node:\n",
    "    def __init__(self, value, next):\n",
    "        self.value=value\n",
    "        self.next=next\n",
    "\n",
    "class LinkedList:\n",
    "    def __init__(self,a):\n",
    "        Nodehead=Node(a[0],None)\n",
    "        self.head=Nodehead\n",
    "        tail=Nodehead\n",
    "        for i in range(1,len(a)):\n",
    "            newNode=Node(a[i],None)\n",
    "            tail.next=newNode\n",
    "            tail=tail.next\n",
    "\n",
    "temp=[]\n",
    "def reverse(head):\n",
    "    if head is not None:\n",
    "        n=head\n",
    "        global temp\n",
    "        temp[len(temp):]=[n.value]\n",
    "        return reverse(head.next)\n",
    "    else:\n",
    "        return temp[::-1]\n",
    "#========tester===========================\n",
    "lst=[1,2,3,4,5]\n",
    "llist=LinkedList(lst)\n",
    "reverse(llist.head)\n",
    "\n",
    "\n"
   ]
  },
  {
   "cell_type": "code",
   "execution_count": null,
   "metadata": {},
   "outputs": [],
   "source": []
  }
 ]
}